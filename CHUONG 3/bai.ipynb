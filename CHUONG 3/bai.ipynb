{
 "cells": [
  {
   "cell_type": "markdown",
   "metadata": {},
   "source": [
    "### Bài 3.1\n"
   ]
  },
  {
   "cell_type": "code",
   "execution_count": 1,
   "metadata": {},
   "outputs": [
    {
     "name": "stdout",
     "output_type": "stream",
     "text": [
      "Numpy version: 2.0.2\n",
      "{\n",
      "  \"Compilers\": {\n",
      "    \"c\": {\n",
      "      \"name\": \"msvc\",\n",
      "      \"linker\": \"link\",\n",
      "      \"version\": \"19.29.30154\",\n",
      "      \"commands\": \"cl\"\n",
      "    },\n",
      "    \"cython\": {\n",
      "      \"name\": \"cython\",\n",
      "      \"linker\": \"cython\",\n",
      "      \"version\": \"3.0.11\",\n",
      "      \"commands\": \"cython\"\n",
      "    },\n",
      "    \"c++\": {\n",
      "      \"name\": \"msvc\",\n",
      "      \"linker\": \"link\",\n",
      "      \"version\": \"19.29.30154\",\n",
      "      \"commands\": \"cl\"\n",
      "    }\n",
      "  },\n",
      "  \"Machine Information\": {\n",
      "    \"host\": {\n",
      "      \"cpu\": \"x86_64\",\n",
      "      \"family\": \"x86_64\",\n",
      "      \"endian\": \"little\",\n",
      "      \"system\": \"windows\"\n",
      "    },\n",
      "    \"build\": {\n",
      "      \"cpu\": \"x86_64\",\n",
      "      \"family\": \"x86_64\",\n",
      "      \"endian\": \"little\",\n",
      "      \"system\": \"windows\"\n",
      "    }\n",
      "  },\n",
      "  \"Build Dependencies\": {\n",
      "    \"blas\": {\n",
      "      \"name\": \"scipy-openblas\",\n",
      "      \"found\": true,\n",
      "      \"version\": \"0.3.27\",\n",
      "      \"detection method\": \"pkgconfig\",\n",
      "      \"include directory\": \"C:/Users/runneradmin/AppData/Local/Temp/cibw-run-vclkdodh/cp39-win_amd64/build/venv/Lib/site-packages/scipy_openblas64/include\",\n",
      "      \"lib directory\": \"C:/Users/runneradmin/AppData/Local/Temp/cibw-run-vclkdodh/cp39-win_amd64/build/venv/Lib/site-packages/scipy_openblas64/lib\",\n",
      "      \"openblas configuration\": \"OpenBLAS 0.3.27  USE64BITINT DYNAMIC_ARCH NO_AFFINITY Zen MAX_THREADS=24\",\n",
      "      \"pc file directory\": \"D:/a/numpy/numpy/.openblas\"\n",
      "    },\n",
      "    \"lapack\": {\n",
      "      \"name\": \"scipy-openblas\",\n",
      "      \"found\": true,\n",
      "      \"version\": \"0.3.27\",\n",
      "      \"detection method\": \"pkgconfig\",\n",
      "      \"include directory\": \"C:/Users/runneradmin/AppData/Local/Temp/cibw-run-vclkdodh/cp39-win_amd64/build/venv/Lib/site-packages/scipy_openblas64/include\",\n",
      "      \"lib directory\": \"C:/Users/runneradmin/AppData/Local/Temp/cibw-run-vclkdodh/cp39-win_amd64/build/venv/Lib/site-packages/scipy_openblas64/lib\",\n",
      "      \"openblas configuration\": \"OpenBLAS 0.3.27  USE64BITINT DYNAMIC_ARCH NO_AFFINITY Zen MAX_THREADS=24\",\n",
      "      \"pc file directory\": \"D:/a/numpy/numpy/.openblas\"\n",
      "    }\n",
      "  },\n",
      "  \"Python Information\": {\n",
      "    \"path\": \"C:\\\\Users\\\\runneradmin\\\\AppData\\\\Local\\\\Temp\\\\build-env-le8kd45u\\\\Scripts\\\\python.exe\",\n",
      "    \"version\": \"3.9\"\n",
      "  },\n",
      "  \"SIMD Extensions\": {\n",
      "    \"baseline\": [\n",
      "      \"SSE\",\n",
      "      \"SSE2\",\n",
      "      \"SSE3\"\n",
      "    ],\n",
      "    \"found\": [\n",
      "      \"SSSE3\",\n",
      "      \"SSE41\",\n",
      "      \"POPCNT\",\n",
      "      \"SSE42\",\n",
      "      \"AVX\",\n",
      "      \"F16C\",\n",
      "      \"FMA3\",\n",
      "      \"AVX2\"\n",
      "    ],\n",
      "    \"not found\": [\n",
      "      \"AVX512F\",\n",
      "      \"AVX512CD\",\n",
      "      \"AVX512_SKX\",\n",
      "      \"AVX512_CLX\",\n",
      "      \"AVX512_CNL\",\n",
      "      \"AVX512_ICL\"\n",
      "    ]\n",
      "  }\n",
      "}\n"
     ]
    },
    {
     "name": "stderr",
     "output_type": "stream",
     "text": [
      "c:\\Users\\Admin\\AppData\\Local\\Programs\\Python\\Python39\\lib\\site-packages\\numpy\\__config__.py:155: UserWarning: Install `pyyaml` for better output\n",
      "  warnings.warn(\"Install `pyyaml` for better output\", stacklevel=1)\n"
     ]
    }
   ],
   "source": [
    "import numpy as np\n",
    "print(\"Numpy version:\", np.__version__)\n",
    "np.show_config()"
   ]
  },
  {
   "cell_type": "markdown",
   "metadata": {},
   "source": []
  },
  {
   "cell_type": "markdown",
   "metadata": {},
   "source": [
    "### Bài 3.2"
   ]
  },
  {
   "cell_type": "code",
   "execution_count": 2,
   "metadata": {},
   "outputs": [
    {
     "name": "stdout",
     "output_type": "stream",
     "text": [
      "Array arr: [4 0 0 0 2 2]\n",
      "Kiểu dữ liệu của arr: int32\n",
      "Kích thước của arr: (6,)\n",
      "Array arr_even (phần tử chẵn): [4 0 0 0 2 2]\n",
      "Array arr_odd (phần tử lẻ): []\n",
      "Array arr_update (phần tử lẻ thay bằng 100): [4 0 0 0 2 2]\n"
     ]
    }
   ],
   "source": [
    "import numpy as np\n",
    "\n",
    "# 1. Tạo numpy array arr có 6 phần tử từ 0-9\n",
    "arr = np.random.randint(0, 10, size=6)\n",
    "print(\"Array arr:\", arr)\n",
    "print(\"Kiểu dữ liệu của arr:\", arr.dtype)\n",
    "print(\"Kích thước của arr:\", arr.shape)\n",
    "\n",
    "# 2. Tạo arr_even gồm các phần tử chẵn trong arr\n",
    "arr_even = arr[arr % 2 == 0]\n",
    "print(\"Array arr_even (phần tử chẵn):\", arr_even)\n",
    "\n",
    "# 3. Tạo arr_odd gồm các phần tử lẻ trong arr\n",
    "arr_odd = arr[arr % 2 != 0]\n",
    "print(\"Array arr_odd (phần tử lẻ):\", arr_odd)\n",
    "\n",
    "# 4. Tạo arr_update từ arr với các phần tử lẻ thay bằng 100\n",
    "arr_update = np.where(arr % 2 == 0, arr, 100)\n",
    "print(\"Array arr_update (phần tử lẻ thay bằng 100):\", arr_update)\n",
    "\n"
   ]
  },
  {
   "cell_type": "markdown",
   "metadata": {},
   "source": [
    "### Bài 3.3"
   ]
  },
  {
   "cell_type": "code",
   "execution_count": 3,
   "metadata": {},
   "outputs": [
    {
     "name": "stdout",
     "output_type": "stream",
     "text": [
      "Array arr_c (các phần tử chung của arr_a và arr_b): [2 4]\n",
      "Array arr_d (các phần tử chỉ xuất hiện ở arr_a): [1 3 5 6]\n",
      "Array arr_f (các phần tử có giá trị từ 5 đến 10 của arr_e): [ 6  9 10  8  6]\n"
     ]
    }
   ],
   "source": [
    "import numpy as np\n",
    "arr_a = np.array([1, 2, 3, 2, 3, 4, 3, 4, 5, 6])\n",
    "arr_b = np.array([7, 2, 10, 2, 7, 4, 9, 4, 9, 8])\n",
    "\n",
    "# 1. Tạo arr_c chỉ chứa các phần tử xuất hiện ở cả arr_a và arr_b\n",
    "arr_c = np.intersect1d(arr_a, arr_b)\n",
    "print(\"Array arr_c (các phần tử chung của arr_a và arr_b):\", arr_c)\n",
    "\n",
    "# 2. Tạo arr_d chứa các phần tử chỉ xuất hiện ở arr_a\n",
    "arr_d = np.setdiff1d(arr_a, arr_b)\n",
    "print(\"Array arr_d (các phần tử chỉ xuất hiện ở arr_a):\", arr_d)\n",
    "\n",
    "# 3. Tạo arr_f chỉ chứa các phần tử có giá trị từ 5 đến 10 của arr_e\n",
    "arr_e = np.array([2, 6, 1, 9, 10, 3, 27, 8, 6, 25, 16])\n",
    "arr_f = arr_e[(arr_e >= 5) & (arr_e <= 10)]\n",
    "print(\"Array arr_f (các phần tử có giá trị từ 5 đến 10 của arr_e):\", arr_f)"
   ]
  },
  {
   "cell_type": "markdown",
   "metadata": {},
   "source": [
    "### Bài 3.4\n"
   ]
  },
  {
   "cell_type": "code",
   "execution_count": 4,
   "metadata": {},
   "outputs": [
    {
     "name": "stdout",
     "output_type": "stream",
     "text": [
      "Array arr_zeros: [0 0 0 0 0 1 0 0 0 0]\n",
      "Array arr_h: [10 11 12 13 14 15 16 17 18 19 20 21 22 23 24]\n",
      "Array arr_h đảo ngược: [24 23 22 21 20 19 18 17 16 15 14 13 12 11 10]\n",
      "Array arr_l (các phần tử khác 0 của arr_k): [1 2 8 2 1 3 5]\n",
      "Array arr_l sau khi thêm 10 và 20: [ 1  2  8  2  1  3  5 10 20]\n",
      "Array arr_l sau khi thêm 100 vào vị trí 5: [  1   2   8   2   1 100   3   5  10  20]\n",
      "Array arr_l sau khi xóa các phần tử ở vị trí 0, 1, 2: [  2   1 100   3   5  10  20]\n"
     ]
    }
   ],
   "source": [
    "import numpy as np\n",
    "\n",
    "# 1. Tạo arr_zeros có 10 phần tử 0, cập nhật phần tử ở vị trí thứ 5 là 1\n",
    "arr_zeros = np.zeros(10, dtype=int)\n",
    "arr_zeros[5] = 1\n",
    "print(\"Array arr_zeros:\", arr_zeros)\n",
    "\n",
    "# 2. Tạo arr_h có giá trị từ 10 đến 24, in danh sách các phần tử theo thứ tự đảo ngược\n",
    "arr_h = np.arange(10, 25)\n",
    "arr_h_reversed = arr_h[::-1]\n",
    "print(\"Array arr_h:\", arr_h)\n",
    "print(\"Array arr_h đảo ngược:\", arr_h_reversed)\n",
    "\n",
    "# 3. Tạo arr_l từ arr_k với các phần tử khác 0\n",
    "arr_k = np.array([1, 2, 0, 8, 2, 0, 1, 3, 0, 5, 0])\n",
    "arr_l = arr_k[arr_k != 0]\n",
    "print(\"Array arr_l (các phần tử khác 0 của arr_k):\", arr_l)\n",
    "\n",
    "# 4. Thêm 2 phần tử có giá trị 10 và 20 vào cuối arr_l\n",
    "arr_l = np.append(arr_l, [10, 20])\n",
    "print(\"Array arr_l sau khi thêm 10 và 20:\", arr_l)\n",
    "\n",
    "# 5. Thêm phần tử có giá trị 100 vào vị trí có index = 5\n",
    "arr_l = np.insert(arr_l, 5, 100)\n",
    "print(\"Array arr_l sau khi thêm 100 vào vị trí 5:\", arr_l)\n",
    "\n",
    "# 6. Xóa các phần tử tại vị trí có index = 0, 1, 2\n",
    "arr_l = np.delete(arr_l, [0, 1, 2])\n",
    "print(\"Array arr_l sau khi xóa các phần tử ở vị trí 0, 1, 2:\", arr_l)\n"
   ]
  },
  {
   "cell_type": "markdown",
   "metadata": {},
   "source": [
    "### Bài 3.5"
   ]
  },
  {
   "cell_type": "code",
   "execution_count": 5,
   "metadata": {},
   "outputs": [
    {
     "ename": "ValueError",
     "evalue": "could not convert string to float: 'ï»¿74, 74, 72, 72, 73, 69, 69, 71, 76, 71, 73, 73, 74, 74, 69, 70, 73, 75, 78, 79, 76, 74, 76, 72, 71, 75, 77, 74, 73, 74, 78, 73, 75, 73, 75, 75, 74, 69, 71, 74, 73, 73, 76, 74, 74, 70, 72, 77, 74, 70, 73, 75, 76, 76, 78, 74, 74, 76, 77, 81, 78, 75, 77, 75, 76, 74, 72, 72, 75, 73,  73, 73, 70, 70, 70, 76, 68, 71, 72, 75, 75, 75, 75, 68, 74, 78, 71, 73, 76, 74, 74, 79, 75, 73, 76, 74, 74, 73, 72, 74, 73, 74, 72, 73, 69, 72, 73, 75, 75, 73, 72, 72, 76, 74, 72, 77, 74, 77, 75, 76, 80, 74, 74, 75, 78, 73, 73, 74, 75, 76, 71, 73, 74, 76, 76, 74, 73, 74, 70, 72,  73, 73, 73, 73, 71, 74, 74, 72, 74, 71, 74, 73, 75, 75, 79, 73, 75, 76, 74, 76, 78, 74, 76, 72, 74, 76, 74, 75, 78, 75, 72, 74, 72, 74, 70, 71, 70, 75, 71, 71, 73, 72, 71, 73, 72, 75, 74, 74, 75, 73, 77, 73, 76, 75, 74, 76, 75, 73, 71, 76, 75, 72, 71, 77, 73, 74, 71, 72, 74, 75,    73, 72, 75, 75, 74, 72, 74, 71, 70, 74, 77, 77, 75, 75, 78, 75, 76, 73, 75, 75, 79, 77, 76, 71, 75, 74, 69, 71, 76, 72, 72, 70, 72, 73, 71, 72, 71, 73, 72, 73, 74, 74, 72, 75, 74, 74, 77, 75, 73, 72, 71, 74, 77, 75, 75, 75, 78, 78, 74, 76, 78, 76, 70, 72, 80, 74, 74, 71, 70, 72,    71, 74, 71, 72, 71, 74, 69, 76, 75, 75, 76, 73, 76, 73, 77, 73, 72, 72, 77, 77, 71, 74, 74, 73, 78, 75, 73, 70, 74, 72, 73, 73, 75, 75, 74, 76, 73, 74, 75, 75, 72, 73, 73, 72, 74, 78, 76, 73, 74, 75, 70, 75, 71, 72, 78, 75, 73, 73, 71, 75, 77, 72, 69, 73, 74, 72, 70, 75, 70, 72,    72, 74, 73, 74, 76, 75, 80, 72, 75, 73, 74, 74, 73, 75, 75, 71, 73, 75, 74, 74, 72, 74, 74, 74, 73, 76, 75, 72, 73, 73, 73, 72, 72, 72, 72, 71, 75, 75, 74, 73, 75, 79, 74, 76, 73, 74, 74, 72, 74, 74, 75, 78, 74, 74, 74, 77, 70, 73, 74, 73, 71, 75, 71, 72, 77, 74, 70, 77, 73, 72, 76, 71, 76, 78, 75, 73, 78, 74, 79, 75, 76, 72, 75, 75, 70, 72, 70, 74, 71, 76, 73, 76, 71, 69, 72, 72, 69, 73, 69, 73, 74, 74, 72, 71, 72, 72, 76, 76, 76, 74, 76, 75, 71, 72, 71, 73, 75, 76, 75, 71, 75, 74, 72, 73, 73, 73, 73, 76, 72, 76, 73, 73, 73, 75, 75, 77, 73, 72, 75, 70, 74, 72, 80, 71, 71, 74, 74, 73, 75, 76, 73, 77, 72, 73, 77, 76, 71, 75, 73, 74, 77, 71, 72, 73, 69, 73, 70, 74, 76, 73, 73, 75, 73, 79, 74, 73, 74, 77, 75, 74, 73, 77, 73, 77, 74, 74, 73, 77, 74, 77, 75, 77, 75, 71, 74, 70, 79, 72, 72, 70, 74, 74, 72, 73, 72, 74, 74, 76, 82, 74, 74, 70, 73, 73, 74, 77, 72, 76, 73, 73, 72, 74, 74, 71, 72, 75, 74, 74, 77, 70, 71, 73, 76, 71, 75, 74, 72, 76, 79, 76, 73, 76, 78, 75, 76, 72, 72, 73, 73, 75, 71, 76, 70, 75, 74, 75, 73, 71, 71, 72, 73, 73, 72, 69, 73, 78, 71, 73, 75, 76, 70, 74, 77, 75, 79, 72, 77, 73, 75, 75, 75, 73, 73, 76, 77, 75, 70, 71, 71, 75, 74, 69, 70, 75, 72, 75, 73, 72, 72, 72, 76, 75, 74, 69, 73, 72, 72, 75, 77, 76, 80, 77, 76, 79, 71, 75, 73, 76, 77, 73, 76, 70, 75, 73, 75, 70, 69, 71, 72, 72, 73, 70, 70, 73, 76, 75, 72, 73, 79, 71, 72, 74, 74, 74, 72, 76, 76, 72, 72, 71, 72, 72, 70, 77, 74, 72, 76, 71, 76, 71, 73, 70, 73, 73, 72, 71, 71, 71, 72, 72, 74, 74, 74, 71, 72, 75, 72, 71, 72, 72, 72, 72, 74, 74, 77, 75, 73, 75, 73, 76, 72, 77, 75, 72, 71, 71, 75, 72, 73, 73, 71, 70, 75, 71, 76, 73, 68, 71, 72, 74, 77, 72, 76, 78, 81, 72, 73, 76, 72, 72, 74, 76, 73, 76, 75, 70, 71, 74, 72, 73, 76, 76, 73, 71, 68, 71, 71, 74, 77, 69, 72, 76, 75, 76, 75, 76, 72, 74, 76, 74, 72, 75, 78, 77, 70, 72, 79, 74, 71, 68, 77, 75, 71, 72, 70, 72, 72, 73, 72, 74, 72, 72, 75, 72, 73, 74, 72, 78, 75, 72, 74, 75, 75, 76, 74, 74, 73, 74, 71, 74, 75, 76, 74, 76, 76, 73, 75, 75, 74, 68, 72, 75, 71, 70, 72, 73, 72, 75, 74, 70, 76, 71, 82, 72, 73, 74, 71, 75, 77, 72, 74, 72, 73, 78, 77, 73, 73, 73, 73, 73, 76, 75, 70, 73, 72, 73, 75, 74, 73, 73, 76, 73, 75, 70, 77, 72, 77, 74, 75, 75, 75, 75, 72, 74, 71, 76, 71, 75, 76, 83, 75, 74, 76, 72, 72, 75, 75, 72, 77, 73, 72, 70, 74, 72, 74, 72, 71, 70, 71, 76, 74, 76, 74, 74, 74, 75, 75, 71, 71, 74, 77, 71, 74, 75, 77, 76, 74, 76, 72, 71, 72, 75, 73, 68, 72, 69, 73, 73, 75, 70, 70, 74, 75, 74, 74, 73, 74, 75, 77, 73, 74, 76, 74, 75, 73, 76, 78, 75, 73, 77, 74, 72, 74, 72, 71, 73, 75, 73, 67, 67, 76, 74, 73, 70, 75, 70, 72, 77, 79, 78, 74, 75, 75, 78, 76, 75, 69, 75, 72, 75, 73, 74, 75, 75, 73'",
     "output_type": "error",
     "traceback": [
      "\u001b[1;31m---------------------------------------------------------------------------\u001b[0m",
      "\u001b[1;31mValueError\u001b[0m                                Traceback (most recent call last)",
      "Cell \u001b[1;32mIn[5], line 5\u001b[0m\n\u001b[0;32m      3\u001b[0m \u001b[38;5;66;03m# Bước 1: Đọc dữ liệu từ file heights_1.txt và weights_1.txt\u001b[39;00m\n\u001b[0;32m      4\u001b[0m \u001b[38;5;28;01mwith\u001b[39;00m \u001b[38;5;28mopen\u001b[39m(\u001b[38;5;124m'\u001b[39m\u001b[38;5;124mheights_1.txt\u001b[39m\u001b[38;5;124m'\u001b[39m, \u001b[38;5;124m'\u001b[39m\u001b[38;5;124mr\u001b[39m\u001b[38;5;124m'\u001b[39m) \u001b[38;5;28;01mas\u001b[39;00m f:\n\u001b[1;32m----> 5\u001b[0m     height \u001b[38;5;241m=\u001b[39m [\u001b[38;5;28mfloat\u001b[39m(line\u001b[38;5;241m.\u001b[39mstrip()) \u001b[38;5;28;01mfor\u001b[39;00m line \u001b[38;5;129;01min\u001b[39;00m f]\n\u001b[0;32m      7\u001b[0m \u001b[38;5;28;01mwith\u001b[39;00m \u001b[38;5;28mopen\u001b[39m(\u001b[38;5;124m'\u001b[39m\u001b[38;5;124mweights_1.txt\u001b[39m\u001b[38;5;124m'\u001b[39m, \u001b[38;5;124m'\u001b[39m\u001b[38;5;124mr\u001b[39m\u001b[38;5;124m'\u001b[39m) \u001b[38;5;28;01mas\u001b[39;00m f:\n\u001b[0;32m      8\u001b[0m     weight \u001b[38;5;241m=\u001b[39m [\u001b[38;5;28mfloat\u001b[39m(line\u001b[38;5;241m.\u001b[39mstrip()) \u001b[38;5;28;01mfor\u001b[39;00m line \u001b[38;5;129;01min\u001b[39;00m f]\n",
      "Cell \u001b[1;32mIn[5], line 5\u001b[0m, in \u001b[0;36m<listcomp>\u001b[1;34m(.0)\u001b[0m\n\u001b[0;32m      3\u001b[0m \u001b[38;5;66;03m# Bước 1: Đọc dữ liệu từ file heights_1.txt và weights_1.txt\u001b[39;00m\n\u001b[0;32m      4\u001b[0m \u001b[38;5;28;01mwith\u001b[39;00m \u001b[38;5;28mopen\u001b[39m(\u001b[38;5;124m'\u001b[39m\u001b[38;5;124mheights_1.txt\u001b[39m\u001b[38;5;124m'\u001b[39m, \u001b[38;5;124m'\u001b[39m\u001b[38;5;124mr\u001b[39m\u001b[38;5;124m'\u001b[39m) \u001b[38;5;28;01mas\u001b[39;00m f:\n\u001b[1;32m----> 5\u001b[0m     height \u001b[38;5;241m=\u001b[39m [\u001b[38;5;28;43mfloat\u001b[39;49m\u001b[43m(\u001b[49m\u001b[43mline\u001b[49m\u001b[38;5;241;43m.\u001b[39;49m\u001b[43mstrip\u001b[49m\u001b[43m(\u001b[49m\u001b[43m)\u001b[49m\u001b[43m)\u001b[49m \u001b[38;5;28;01mfor\u001b[39;00m line \u001b[38;5;129;01min\u001b[39;00m f]\n\u001b[0;32m      7\u001b[0m \u001b[38;5;28;01mwith\u001b[39;00m \u001b[38;5;28mopen\u001b[39m(\u001b[38;5;124m'\u001b[39m\u001b[38;5;124mweights_1.txt\u001b[39m\u001b[38;5;124m'\u001b[39m, \u001b[38;5;124m'\u001b[39m\u001b[38;5;124mr\u001b[39m\u001b[38;5;124m'\u001b[39m) \u001b[38;5;28;01mas\u001b[39;00m f:\n\u001b[0;32m      8\u001b[0m     weight \u001b[38;5;241m=\u001b[39m [\u001b[38;5;28mfloat\u001b[39m(line\u001b[38;5;241m.\u001b[39mstrip()) \u001b[38;5;28;01mfor\u001b[39;00m line \u001b[38;5;129;01min\u001b[39;00m f]\n",
      "\u001b[1;31mValueError\u001b[0m: could not convert string to float: 'ï»¿74, 74, 72, 72, 73, 69, 69, 71, 76, 71, 73, 73, 74, 74, 69, 70, 73, 75, 78, 79, 76, 74, 76, 72, 71, 75, 77, 74, 73, 74, 78, 73, 75, 73, 75, 75, 74, 69, 71, 74, 73, 73, 76, 74, 74, 70, 72, 77, 74, 70, 73, 75, 76, 76, 78, 74, 74, 76, 77, 81, 78, 75, 77, 75, 76, 74, 72, 72, 75, 73,  73, 73, 70, 70, 70, 76, 68, 71, 72, 75, 75, 75, 75, 68, 74, 78, 71, 73, 76, 74, 74, 79, 75, 73, 76, 74, 74, 73, 72, 74, 73, 74, 72, 73, 69, 72, 73, 75, 75, 73, 72, 72, 76, 74, 72, 77, 74, 77, 75, 76, 80, 74, 74, 75, 78, 73, 73, 74, 75, 76, 71, 73, 74, 76, 76, 74, 73, 74, 70, 72,  73, 73, 73, 73, 71, 74, 74, 72, 74, 71, 74, 73, 75, 75, 79, 73, 75, 76, 74, 76, 78, 74, 76, 72, 74, 76, 74, 75, 78, 75, 72, 74, 72, 74, 70, 71, 70, 75, 71, 71, 73, 72, 71, 73, 72, 75, 74, 74, 75, 73, 77, 73, 76, 75, 74, 76, 75, 73, 71, 76, 75, 72, 71, 77, 73, 74, 71, 72, 74, 75,    73, 72, 75, 75, 74, 72, 74, 71, 70, 74, 77, 77, 75, 75, 78, 75, 76, 73, 75, 75, 79, 77, 76, 71, 75, 74, 69, 71, 76, 72, 72, 70, 72, 73, 71, 72, 71, 73, 72, 73, 74, 74, 72, 75, 74, 74, 77, 75, 73, 72, 71, 74, 77, 75, 75, 75, 78, 78, 74, 76, 78, 76, 70, 72, 80, 74, 74, 71, 70, 72,    71, 74, 71, 72, 71, 74, 69, 76, 75, 75, 76, 73, 76, 73, 77, 73, 72, 72, 77, 77, 71, 74, 74, 73, 78, 75, 73, 70, 74, 72, 73, 73, 75, 75, 74, 76, 73, 74, 75, 75, 72, 73, 73, 72, 74, 78, 76, 73, 74, 75, 70, 75, 71, 72, 78, 75, 73, 73, 71, 75, 77, 72, 69, 73, 74, 72, 70, 75, 70, 72,    72, 74, 73, 74, 76, 75, 80, 72, 75, 73, 74, 74, 73, 75, 75, 71, 73, 75, 74, 74, 72, 74, 74, 74, 73, 76, 75, 72, 73, 73, 73, 72, 72, 72, 72, 71, 75, 75, 74, 73, 75, 79, 74, 76, 73, 74, 74, 72, 74, 74, 75, 78, 74, 74, 74, 77, 70, 73, 74, 73, 71, 75, 71, 72, 77, 74, 70, 77, 73, 72, 76, 71, 76, 78, 75, 73, 78, 74, 79, 75, 76, 72, 75, 75, 70, 72, 70, 74, 71, 76, 73, 76, 71, 69, 72, 72, 69, 73, 69, 73, 74, 74, 72, 71, 72, 72, 76, 76, 76, 74, 76, 75, 71, 72, 71, 73, 75, 76, 75, 71, 75, 74, 72, 73, 73, 73, 73, 76, 72, 76, 73, 73, 73, 75, 75, 77, 73, 72, 75, 70, 74, 72, 80, 71, 71, 74, 74, 73, 75, 76, 73, 77, 72, 73, 77, 76, 71, 75, 73, 74, 77, 71, 72, 73, 69, 73, 70, 74, 76, 73, 73, 75, 73, 79, 74, 73, 74, 77, 75, 74, 73, 77, 73, 77, 74, 74, 73, 77, 74, 77, 75, 77, 75, 71, 74, 70, 79, 72, 72, 70, 74, 74, 72, 73, 72, 74, 74, 76, 82, 74, 74, 70, 73, 73, 74, 77, 72, 76, 73, 73, 72, 74, 74, 71, 72, 75, 74, 74, 77, 70, 71, 73, 76, 71, 75, 74, 72, 76, 79, 76, 73, 76, 78, 75, 76, 72, 72, 73, 73, 75, 71, 76, 70, 75, 74, 75, 73, 71, 71, 72, 73, 73, 72, 69, 73, 78, 71, 73, 75, 76, 70, 74, 77, 75, 79, 72, 77, 73, 75, 75, 75, 73, 73, 76, 77, 75, 70, 71, 71, 75, 74, 69, 70, 75, 72, 75, 73, 72, 72, 72, 76, 75, 74, 69, 73, 72, 72, 75, 77, 76, 80, 77, 76, 79, 71, 75, 73, 76, 77, 73, 76, 70, 75, 73, 75, 70, 69, 71, 72, 72, 73, 70, 70, 73, 76, 75, 72, 73, 79, 71, 72, 74, 74, 74, 72, 76, 76, 72, 72, 71, 72, 72, 70, 77, 74, 72, 76, 71, 76, 71, 73, 70, 73, 73, 72, 71, 71, 71, 72, 72, 74, 74, 74, 71, 72, 75, 72, 71, 72, 72, 72, 72, 74, 74, 77, 75, 73, 75, 73, 76, 72, 77, 75, 72, 71, 71, 75, 72, 73, 73, 71, 70, 75, 71, 76, 73, 68, 71, 72, 74, 77, 72, 76, 78, 81, 72, 73, 76, 72, 72, 74, 76, 73, 76, 75, 70, 71, 74, 72, 73, 76, 76, 73, 71, 68, 71, 71, 74, 77, 69, 72, 76, 75, 76, 75, 76, 72, 74, 76, 74, 72, 75, 78, 77, 70, 72, 79, 74, 71, 68, 77, 75, 71, 72, 70, 72, 72, 73, 72, 74, 72, 72, 75, 72, 73, 74, 72, 78, 75, 72, 74, 75, 75, 76, 74, 74, 73, 74, 71, 74, 75, 76, 74, 76, 76, 73, 75, 75, 74, 68, 72, 75, 71, 70, 72, 73, 72, 75, 74, 70, 76, 71, 82, 72, 73, 74, 71, 75, 77, 72, 74, 72, 73, 78, 77, 73, 73, 73, 73, 73, 76, 75, 70, 73, 72, 73, 75, 74, 73, 73, 76, 73, 75, 70, 77, 72, 77, 74, 75, 75, 75, 75, 72, 74, 71, 76, 71, 75, 76, 83, 75, 74, 76, 72, 72, 75, 75, 72, 77, 73, 72, 70, 74, 72, 74, 72, 71, 70, 71, 76, 74, 76, 74, 74, 74, 75, 75, 71, 71, 74, 77, 71, 74, 75, 77, 76, 74, 76, 72, 71, 72, 75, 73, 68, 72, 69, 73, 73, 75, 70, 70, 74, 75, 74, 74, 73, 74, 75, 77, 73, 74, 76, 74, 75, 73, 76, 78, 75, 73, 77, 74, 72, 74, 72, 71, 73, 75, 73, 67, 67, 76, 74, 73, 70, 75, 70, 72, 77, 79, 78, 74, 75, 75, 78, 76, 75, 69, 75, 72, 75, 73, 74, 75, 75, 73'"
     ]
    }
   ],
   "source": [
    "import numpy as np\n",
    "\n",
    "# Bước 1: Đọc dữ liệu từ file heights_1.txt và weights_1.txt\n",
    "with open('heights_1.txt', 'r') as f:\n",
    "    height = [float(line.strip()) for line in f]\n",
    "\n",
    "with open('weights_1.txt', 'r') as f:\n",
    "    weight = [float(line.strip()) for line in f]\n",
    "\n",
    "# Bước 2: Tạo numpy array arr_height từ list height\n",
    "arr_height = np.array(height)\n",
    "\n",
    "# Bước 3: Tạo numpy array arr_weight từ list weight\n",
    "arr_weight = np.array(weight)\n",
    "\n",
    "# Bước 4: Chuyển đổi chiều cao sang mét\n",
    "arr_height_m = arr_height * 0.0254\n",
    "\n",
    "# Bước 5: Chuyển đổi cân nặng sang kg\n",
    "arr_weight_kg = arr_weight * 0.453592\n",
    "\n",
    "# Bước 6: Tính chỉ số BMI\n",
    "arr_bmi = arr_weight_kg / (arr_height_m ** 2)\n",
    "\n",
    "# Bước 7: Lấy giá trị cân nặng tại index = 50\n",
    "weight_at_index_50 = arr_weight_kg[50]\n",
    "\n",
    "# Bước 8: Lấy các phần tử từ index 100 đến 110 trong arr_height_m\n",
    "arr_height_m_100 = arr_height_m[100:111]\n",
    "\n",
    "# Bước 9: Lấy các cầu thủ có BMI < 21\n",
    "players_bmi_below_21 = arr_bmi[arr_bmi < 21]\n",
    "\n",
    "# Bước 10: Tính chiều cao trung bình và cân nặng trung bình\n",
    "average_height = np.mean(arr_height_m)\n",
    "average_weight = np.mean(arr_weight_kg)\n",
    "\n",
    "# Bước 11: Tìm chiều cao và cân nặng lớn nhất\n",
    "max_height = np.max(arr_height_m)\n",
    "max_weight = np.max(arr_weight_kg)\n",
    "\n",
    "# Bước 12: Tìm chiều cao và cân nặng nhỏ nhất\n",
    "min_height = np.min(arr_height_m)\n",
    "min_weight = np.min(arr_weight_kg)\n",
    "\n",
    "# In kết quả\n",
    "print(\"Array of Heights in meters:\", arr_height_m)\n",
    "print(\"Array of Weights in kg:\", arr_weight_kg)\n",
    "print(\"Array of BMI:\", arr_bmi)\n",
    "print(\"Weight at index 50:\", weight_at_index_50)\n",
    "print(\"Height from index 100 to 110:\", arr_height_m_100)\n",
    "print(\"Players with BMI < 21:\", players_bmi_below_21)\n",
    "print(\"Average height (m):\", average_height)\n",
    "print(\"Average weight (kg):\", average_weight)\n",
    "print(\"Maximum height (m):\", max_height)\n",
    "print(\"Maximum weight (kg):\", max_weight)\n",
    "print(\"Minimum height (m):\", min_height)\n",
    "print(\"Minimum weight (kg):\", min_weight)"
   ]
  },
  {
   "cell_type": "markdown",
   "metadata": {},
   "source": [
    "### Bài 3.6"
   ]
  },
  {
   "cell_type": "code",
   "execution_count": 6,
   "metadata": {},
   "outputs": [
    {
     "name": "stdout",
     "output_type": "stream",
     "text": [
      "Array art:\n",
      " [[ True  True  True]\n",
      " [ True  True  True]\n",
      " [ True  True  True]]\n",
      "\n",
      "Array arr_2D ban đầu:\n",
      " [[       0 12345678        0]\n",
      " [       0 12345678        0]\n",
      " [       0 12345678        0]]\n",
      "\n",
      "Array arr_2D sau khi đổi thứ tự cột:\n",
      " [[       0 12345678        0]\n",
      " [       0 12345678        0]\n",
      " [       0 12345678        0]]\n",
      "\n",
      "Array arr_2D sau khi đổi thứ tự dòng:\n",
      " [[       0 12345678        0]\n",
      " [       0 12345678        0]\n",
      " [       0 12345678        0]]\n",
      "\n",
      "Array arr_2D sau khi đảo ngược các dòng:\n",
      " [[       0 12345678        0]\n",
      " [       0 12345678        0]\n",
      " [       0 12345678        0]]\n",
      "\n",
      "Array arr_2D sau khi đảo ngược các cột:\n",
      " [[       0 12345678        0]\n",
      " [       0 12345678        0]\n",
      " [       0 12345678        0]]\n"
     ]
    },
    {
     "ename": "AttributeError",
     "evalue": "`np.NaN` was removed in the NumPy 2.0 release. Use `np.nan` instead.",
     "output_type": "error",
     "traceback": [
      "\u001b[1;31m---------------------------------------------------------------------------\u001b[0m",
      "\u001b[1;31mAttributeError\u001b[0m                            Traceback (most recent call last)",
      "Cell \u001b[1;32mIn[6], line 30\u001b[0m\n\u001b[0;32m     27\u001b[0m \u001b[38;5;28mprint\u001b[39m(\u001b[38;5;124m\"\u001b[39m\u001b[38;5;130;01m\\n\u001b[39;00m\u001b[38;5;124mArray arr_2D sau khi đảo ngược các cột:\u001b[39m\u001b[38;5;130;01m\\n\u001b[39;00m\u001b[38;5;124m\"\u001b[39m, arr_2D)\n\u001b[0;32m     29\u001b[0m \u001b[38;5;66;03m# 6. Kiểm tra giá trị null trong arr_2D_null\u001b[39;00m\n\u001b[1;32m---> 30\u001b[0m arr_2D_null \u001b[38;5;241m=\u001b[39m np\u001b[38;5;241m.\u001b[39marray([[\u001b[38;5;241m1\u001b[39m, \u001b[38;5;241m2\u001b[39m, \u001b[38;5;241m3\u001b[39m], [\u001b[43mnp\u001b[49m\u001b[38;5;241;43m.\u001b[39;49m\u001b[43mNaN\u001b[49m, \u001b[38;5;241m5\u001b[39m, \u001b[38;5;241m6\u001b[39m], [\u001b[38;5;241m7\u001b[39m, np\u001b[38;5;241m.\u001b[39mNaN, \u001b[38;5;241m9\u001b[39m], [\u001b[38;5;241m4\u001b[39m, \u001b[38;5;241m5\u001b[39m, \u001b[38;5;241m6\u001b[39m]])\n\u001b[0;32m     31\u001b[0m has_nan \u001b[38;5;241m=\u001b[39m np\u001b[38;5;241m.\u001b[39misnan(arr_2D_null)\u001b[38;5;241m.\u001b[39many()\n\u001b[0;32m     32\u001b[0m \u001b[38;5;28mprint\u001b[39m(\u001b[38;5;124m\"\u001b[39m\u001b[38;5;130;01m\\n\u001b[39;00m\u001b[38;5;124mArray arr_2D_null:\u001b[39m\u001b[38;5;130;01m\\n\u001b[39;00m\u001b[38;5;124m\"\u001b[39m, arr_2D_null)\n",
      "File \u001b[1;32mc:\\Users\\Admin\\AppData\\Local\\Programs\\Python\\Python39\\lib\\site-packages\\numpy\\__init__.py:427\u001b[0m, in \u001b[0;36m__getattr__\u001b[1;34m(attr)\u001b[0m\n\u001b[0;32m    424\u001b[0m     \u001b[38;5;28;01mraise\u001b[39;00m \u001b[38;5;167;01mAttributeError\u001b[39;00m(__former_attrs__[attr])\n\u001b[0;32m    426\u001b[0m \u001b[38;5;28;01mif\u001b[39;00m attr \u001b[38;5;129;01min\u001b[39;00m __expired_attributes__:\n\u001b[1;32m--> 427\u001b[0m     \u001b[38;5;28;01mraise\u001b[39;00m \u001b[38;5;167;01mAttributeError\u001b[39;00m(\n\u001b[0;32m    428\u001b[0m         \u001b[38;5;124mf\u001b[39m\u001b[38;5;124m\"\u001b[39m\u001b[38;5;124m`np.\u001b[39m\u001b[38;5;132;01m{\u001b[39;00mattr\u001b[38;5;132;01m}\u001b[39;00m\u001b[38;5;124m` was removed in the NumPy 2.0 release. \u001b[39m\u001b[38;5;124m\"\u001b[39m\n\u001b[0;32m    429\u001b[0m         \u001b[38;5;124mf\u001b[39m\u001b[38;5;124m\"\u001b[39m\u001b[38;5;132;01m{\u001b[39;00m__expired_attributes__[attr]\u001b[38;5;132;01m}\u001b[39;00m\u001b[38;5;124m\"\u001b[39m\n\u001b[0;32m    430\u001b[0m     )\n\u001b[0;32m    432\u001b[0m \u001b[38;5;28;01mif\u001b[39;00m attr \u001b[38;5;241m==\u001b[39m \u001b[38;5;124m\"\u001b[39m\u001b[38;5;124mchararray\u001b[39m\u001b[38;5;124m\"\u001b[39m:\n\u001b[0;32m    433\u001b[0m     warnings\u001b[38;5;241m.\u001b[39mwarn(\n\u001b[0;32m    434\u001b[0m         \u001b[38;5;124m\"\u001b[39m\u001b[38;5;124m`np.chararray` is deprecated and will be removed from \u001b[39m\u001b[38;5;124m\"\u001b[39m\n\u001b[0;32m    435\u001b[0m         \u001b[38;5;124m\"\u001b[39m\u001b[38;5;124mthe main namespace in the future. Use an array with a string \u001b[39m\u001b[38;5;124m\"\u001b[39m\n\u001b[0;32m    436\u001b[0m         \u001b[38;5;124m\"\u001b[39m\u001b[38;5;124mor bytes dtype instead.\u001b[39m\u001b[38;5;124m\"\u001b[39m, \u001b[38;5;167;01mDeprecationWarning\u001b[39;00m, stacklevel\u001b[38;5;241m=\u001b[39m\u001b[38;5;241m2\u001b[39m)\n",
      "\u001b[1;31mAttributeError\u001b[0m: `np.NaN` was removed in the NumPy 2.0 release. Use `np.nan` instead."
     ]
    }
   ],
   "source": [
    "import numpy as np\n",
    "\n",
    "# 1. Tạo array art có kích thước 3x3 với các giá trị True\n",
    "art = np.full((3, 3), True)\n",
    "print(\"Array art:\\n\", art)\n",
    "\n",
    "# 2. Tạo array arr_ID và tạo array 2 chiều arr_2D từ nó\n",
    "arr_ID = np.array([0, 12345678, 0])  # Thêm một giá trị nữa để đủ 3 cột\n",
    "arr_2D = np.tile(arr_ID, (3, 1))     # Tạo kích thước 3x3\n",
    "print(\"\\nArray arr_2D ban đầu:\\n\", arr_2D)\n",
    "\n",
    "# Chuyển cột 1 sang cột 3 và ngược lại\n",
    "arr_2D[:, [0, 2]] = arr_2D[:, [2, 0]]\n",
    "print(\"\\nArray arr_2D sau khi đổi thứ tự cột:\\n\", arr_2D)\n",
    "\n",
    "\n",
    "# 3. Chuyển dòng 1 sang dòng 2 và ngược lại\n",
    "arr_2D[[0, 1]] = arr_2D[[1, 0]]\n",
    "print(\"\\nArray arr_2D sau khi đổi thứ tự dòng:\\n\", arr_2D)\n",
    "\n",
    "# 4. Đảo ngược các dòng của arr_2D\n",
    "arr_2D = arr_2D[::-1]\n",
    "print(\"\\nArray arr_2D sau khi đảo ngược các dòng:\\n\", arr_2D)\n",
    "\n",
    "# 5. Đảo ngược các cột của arr_2D\n",
    "arr_2D = arr_2D[:, ::-1]\n",
    "print(\"\\nArray arr_2D sau khi đảo ngược các cột:\\n\", arr_2D)\n",
    "\n",
    "# 6. Kiểm tra giá trị null trong arr_2D_null\n",
    "arr_2D_null = np.array([[1, 2, 3], [np.NaN, 5, 6], [7, np.NaN, 9], [4, 5, 6]])\n",
    "has_nan = np.isnan(arr_2D_null).any()\n",
    "print(\"\\nArray arr_2D_null:\\n\", arr_2D_null)\n",
    "print(\"Có giá trị null trong arr_2D_null không?\", has_nan)\n",
    "\n",
    "# 7. Thay thế giá trị null bằng 0\n",
    "arr_2D_null[np.isnan(arr_2D_null)] = 0\n",
    "print(\"\\nArray arr_2D_null sau khi thay thế giá trị null bằng 0:\\n\", arr_2D_null)"
   ]
  },
  {
   "cell_type": "markdown",
   "metadata": {},
   "source": []
  },
  {
   "cell_type": "markdown",
   "metadata": {},
   "source": [
    "### Bài 3.7\n"
   ]
  },
  {
   "cell_type": "code",
   "execution_count": 7,
   "metadata": {},
   "outputs": [
    {
     "ename": "FileNotFoundError",
     "evalue": "[Errno 2] No such file or directory: 'baseball_2D.txt'",
     "output_type": "error",
     "traceback": [
      "\u001b[1;31m---------------------------------------------------------------------------\u001b[0m",
      "\u001b[1;31mFileNotFoundError\u001b[0m                         Traceback (most recent call last)",
      "Cell \u001b[1;32mIn[7], line 4\u001b[0m\n\u001b[0;32m      1\u001b[0m \u001b[38;5;28;01mimport\u001b[39;00m \u001b[38;5;21;01mnumpy\u001b[39;00m \u001b[38;5;28;01mas\u001b[39;00m \u001b[38;5;21;01mnp\u001b[39;00m\n\u001b[0;32m      3\u001b[0m \u001b[38;5;66;03m# 1. Đọc dữ liệu từ tập tin vào danh sách baseball\u001b[39;00m\n\u001b[1;32m----> 4\u001b[0m \u001b[38;5;28;01mwith\u001b[39;00m \u001b[38;5;28;43mopen\u001b[39;49m\u001b[43m(\u001b[49m\u001b[38;5;124;43m'\u001b[39;49m\u001b[38;5;124;43mbaseball_2D.txt\u001b[39;49m\u001b[38;5;124;43m'\u001b[39;49m\u001b[43m,\u001b[49m\u001b[43m \u001b[49m\u001b[38;5;124;43m'\u001b[39;49m\u001b[38;5;124;43mr\u001b[39;49m\u001b[38;5;124;43m'\u001b[39;49m\u001b[43m)\u001b[49m \u001b[38;5;28;01mas\u001b[39;00m file:\n\u001b[0;32m      5\u001b[0m     baseball \u001b[38;5;241m=\u001b[39m [\u001b[38;5;28mlist\u001b[39m(\u001b[38;5;28mmap\u001b[39m(\u001b[38;5;28mfloat\u001b[39m, line\u001b[38;5;241m.\u001b[39mstrip()\u001b[38;5;241m.\u001b[39msplit())) \u001b[38;5;28;01mfor\u001b[39;00m line \u001b[38;5;129;01min\u001b[39;00m file]\n\u001b[0;32m      7\u001b[0m \u001b[38;5;66;03m# Tạo mảng numpy 2D từ baseball\u001b[39;00m\n",
      "File \u001b[1;32m~\\AppData\\Roaming\\Python\\Python39\\site-packages\\IPython\\core\\interactiveshell.py:310\u001b[0m, in \u001b[0;36m_modified_open\u001b[1;34m(file, *args, **kwargs)\u001b[0m\n\u001b[0;32m    303\u001b[0m \u001b[38;5;28;01mif\u001b[39;00m file \u001b[38;5;129;01min\u001b[39;00m {\u001b[38;5;241m0\u001b[39m, \u001b[38;5;241m1\u001b[39m, \u001b[38;5;241m2\u001b[39m}:\n\u001b[0;32m    304\u001b[0m     \u001b[38;5;28;01mraise\u001b[39;00m \u001b[38;5;167;01mValueError\u001b[39;00m(\n\u001b[0;32m    305\u001b[0m         \u001b[38;5;124mf\u001b[39m\u001b[38;5;124m\"\u001b[39m\u001b[38;5;124mIPython won\u001b[39m\u001b[38;5;124m'\u001b[39m\u001b[38;5;124mt let you open fd=\u001b[39m\u001b[38;5;132;01m{\u001b[39;00mfile\u001b[38;5;132;01m}\u001b[39;00m\u001b[38;5;124m by default \u001b[39m\u001b[38;5;124m\"\u001b[39m\n\u001b[0;32m    306\u001b[0m         \u001b[38;5;124m\"\u001b[39m\u001b[38;5;124mas it is likely to crash IPython. If you know what you are doing, \u001b[39m\u001b[38;5;124m\"\u001b[39m\n\u001b[0;32m    307\u001b[0m         \u001b[38;5;124m\"\u001b[39m\u001b[38;5;124myou can use builtins\u001b[39m\u001b[38;5;124m'\u001b[39m\u001b[38;5;124m open.\u001b[39m\u001b[38;5;124m\"\u001b[39m\n\u001b[0;32m    308\u001b[0m     )\n\u001b[1;32m--> 310\u001b[0m \u001b[38;5;28;01mreturn\u001b[39;00m io_open(file, \u001b[38;5;241m*\u001b[39margs, \u001b[38;5;241m*\u001b[39m\u001b[38;5;241m*\u001b[39mkwargs)\n",
      "\u001b[1;31mFileNotFoundError\u001b[0m: [Errno 2] No such file or directory: 'baseball_2D.txt'"
     ]
    }
   ],
   "source": [
    "import numpy as np\n",
    "\n",
    "# 1. Đọc dữ liệu từ tập tin vào danh sách baseball\n",
    "with open('baseball_2D.txt', 'r') as file:\n",
    "    baseball = [list(map(float, line.strip().split())) for line in file]\n",
    "\n",
    "# Tạo mảng numpy 2D từ baseball\n",
    "np_baseball = np.array(baseball)\n",
    "\n",
    "# Kiểm tra kiểu dữ liệu và kích thước của np_baseball\n",
    "print(\"Dữ liệu np_baseball:\\n\", np_baseball)\n",
    "print(\"Kiểu dữ liệu của np_baseball:\", np_baseball.dtype)\n",
    "print(\"Kích thước của np_baseball:\", np_baseball.shape)\n",
    "\n",
    "# 2. In các giá trị của dòng thứ 50 trong np_baseball\n",
    "print(\"\\nDòng thứ 50 trong np_baseball:\", np_baseball[49])\n",
    "\n",
    "# 3. Tạo numpy array np_weight từ cột hai của np_baseball\n",
    "np_weight = np_baseball[:, 1]\n",
    "print(\"\\nMảng np_weight (cột cân nặng):\\n\", np_weight)\n",
    "\n",
    "# 4. Chiều cao của vận động viên thứ 124\n",
    "print(\"\\nChiều cao của vận động viên thứ 124:\", np_baseball[123, 0])\n",
    "\n",
    "# 5. Tính chiều cao trung bình và cân nặng trung bình của các cầu thủ\n",
    "mean_height = np.mean(np_baseball[:, 0])\n",
    "mean_weight = np.mean(np_baseball[:, 1])\n",
    "print(\"\\nChiều cao trung bình của các cầu thủ:\", mean_height)\n",
    "print(\"Cân nặng trung bình của các cầu thủ:\", mean_weight)\n",
    "\n",
    "# 6. Tính tương quan giữa chiều cao và cân nặng\n",
    "correlation = np.corrcoef(np_baseball[:, 0], np_baseball[:, 1])[0, 1]\n",
    "print(\"\\nHệ số tương quan giữa chiều cao và cân nặng của các cầu thủ:\", correlation)\n",
    "\n",
    "# Nhận xét về mối tương quan\n",
    "if correlation > 0:\n",
    "    print(\"Nhận xét: Chiều cao và cân nặng có mối tương quan thuận.\")\n",
    "elif correlation < 0:\n",
    "    print(\"Nhận xét: Chiều cao và cân nặng có mối tương quan nghịch.\")\n",
    "else:\n",
    "    print(\"Nhận xét: Chiều cao và cân nặng không có mối tương quan.\")"
   ]
  },
  {
   "cell_type": "markdown",
   "metadata": {},
   "source": [
    "### Bài 3.8"
   ]
  },
  {
   "cell_type": "code",
   "execution_count": null,
   "metadata": {},
   "outputs": [],
   "source": [
    "import numpy as np\n",
    "\n",
    "# 1. Đọc dữ liệu từ hai tệp heights.txt và positions.txt\n",
    "with open('heights.txt', 'r') as file:\n",
    "    heights = [float(line.strip()) for line in file]\n",
    "\n",
    "with open('positions.txt', 'r') as file:\n",
    "    positions = [line.strip() for line in file]\n",
    "\n",
    "# a) Tạo numpy array np_positions từ list positions\n",
    "np_positions = np.array(positions)\n",
    "print(\"Dữ liệu np_positions:\\n\", np_positions)\n",
    "print(\"Kiểu dữ liệu của np_positions:\", np_positions.dtype)\n",
    "\n",
    "# b) Tạo numpy array np_heights từ list heights\n",
    "np_heights = np.array(heights)\n",
    "print(\"\\nDữ liệu np_heights:\\n\", np_heights)\n",
    "print(\"Kiểu dữ liệu của np_heights:\", np_heights.dtype)\n",
    "\n",
    "# 2. Tính chiều cao trung bình của các GK\n",
    "gk_heights = np_heights[np_positions == 'GK']\n",
    "mean_gk_height = np.mean(gk_heights)\n",
    "print(\"\\nChiều cao trung bình của các GK:\", mean_gk_height)\n",
    "\n",
    "# 3. Tính chiều cao trung bình của những vị trí khác (Không phải là GK)\n",
    "non_gk_heights = np_heights[np_positions != 'GK']\n",
    "mean_non_gk_height = np.mean(non_gk_heights)\n",
    "print(\"Chiều cao trung bình của những vị trí khác (Không phải GK):\", mean_non_gk_height)\n",
    "\n",
    "# 4. Tạo mảng dữ liệu có cấu trúc tự định nghĩa players\n",
    "players = np.array(list(zip(np_positions, np_heights)), dtype=[('position', 'U5'), ('height', 'float')])\n",
    "print(\"\\nMảng players:\\n\", players)\n",
    "\n",
    "# 5. Sắp mảng players theo chiều cao, tìm vị trí có chiều cao cao nhất và thấp nhất\n",
    "sorted_players = np.sort(players, order='height')\n",
    "print(\"\\nMảng players sau khi sắp xếp theo height:\\n\", sorted_players)\n",
    "print(\"\\nVị trí có chiều cao thấp nhất:\", sorted_players[0]['position'], \"- Chiều cao:\", sorted_players[0]['height'])\n",
    "print(\"Vị trí có chiều cao cao nhất:\", sorted_players[-1]['position'], \"- Chiều cao:\", sorted_players[-1]['height'])"
   ]
  },
  {
   "cell_type": "markdown",
   "metadata": {},
   "source": [
    "### Bài 3.9\n"
   ]
  },
  {
   "cell_type": "code",
   "execution_count": null,
   "metadata": {},
   "outputs": [],
   "source": [
    "import pandas as pd\n",
    "\n",
    "# Tạo data frame từ tệp CSV\n",
    "euro12 = pd.read_csv('euro2012.csv')\n",
    "\n",
    "# In kiểu dữ liệu, kích thước và danh sách các cột\n",
    "print(\"Kiểu dữ liệu của euro12:\", type(euro12))\n",
    "print(\"Kích thước của euro12:\", euro12.shape)\n",
    "print(\"Danh sách các cột của euro12:\", euro12.columns.tolist())\n",
    "\n",
    "# 1. In giá trị cột Goals\n",
    "print(\"\\nCột Goals:\\n\", euro12['Goals'])\n",
    "\n",
    "# 2. Có bao nhiêu đội tham gia Euro 2012?\n",
    "num_teams = euro12['Team'].nunique()\n",
    "print(\"\\nSố đội tham gia Euro 2012:\", num_teams)\n",
    "\n",
    "# 3. In thông tin của Euro 2012\n",
    "print(\"\\nThông tin của Euro 2012:\")\n",
    "print(euro12.info())\n",
    "\n",
    "# 4. Tạo data frame mới từ euro12 tên là discipline chỉ chứa các cột \"Team\", \"Yellow Cards\", \"Red Cards\"\n",
    "discipline = euro12[['Team', 'Yellow Cards', 'Red Cards']]\n",
    "print(\"\\nDataFrame discipline:\\n\", discipline)\n",
    "\n",
    "# 5. Sắp xếp discipline giảm dần theo 'Red Cards', 'Yellow Cards'\n",
    "discipline_sorted = discipline.sort_values(by=['Red Cards', 'Yellow Cards'], ascending=False)\n",
    "print(\"\\nDataFrame discipline sau khi sắp xếp:\\n\", discipline_sorted)\n",
    "\n",
    "# 6a. Tính trung bình số thẻ vàng (Yellow Cards)\n",
    "mean_yellow_cards = euro12['Yellow Cards'].mean()\n",
    "print(\"\\nTrung bình số thẻ vàng:\", mean_yellow_cards)\n",
    "\n",
    "# 6b. Lọc các đội đã ghi hơn 6 bàn thắng\n",
    "teams_more_than_6_goals = euro12[euro12['Goals'] > 6]\n",
    "print(\"\\nCác đội đã ghi hơn 6 bàn thắng:\\n\", teams_more_than_6_goals[['Team', 'Goals']])\n",
    "\n",
    "# 7. In các đội mà tên bắt đầu bằng 'G'\n",
    "teams_start_with_G = euro12[euro12['Team'].str.startswith('G')]\n",
    "print(\"\\nCác đội có tên bắt đầu bằng 'G':\\n\", teams_start_with_G[['Team']])\n",
    "\n",
    "# 8. In 7 cột đầu của euro12\n",
    "print(\"\\n7 cột đầu của euro12:\\n\", euro12.iloc[:, :7])\n",
    "\n",
    "# 9. In tất cả các cột, trừ 3 cột cuối\n",
    "print(\"\\nTất cả các cột trừ 3 cột cuối:\\n\", euro12.iloc[:, :-3])\n",
    "\n",
    "# 10. In các cột Team, Goals, Shooting Accuracy, Yellow Cards, Red Cards\n",
    "print(\"\\nCác cột Team, Goals, Shooting Accuracy, Yellow Cards, Red Cards:\\n\",\n",
    "      euro12[['Team', 'Goals', 'Shooting Accuracy', 'Yellow Cards', 'Red Cards']])\n",
    "\n",
    "# 11. In các cột 'Team', 'Shooting Accuracy' từ các đội 'England', 'Italy', 'Russia'\n",
    "selected_teams = euro12[euro12['Team'].isin(['England', 'Italy', 'Russia'])]\n",
    "print(\"\\nCác cột 'Team', 'Shooting Accuracy' từ các đội 'England', 'Italy', 'Russia':\\n\",\n",
    "      selected_teams[['Team', 'Shooting Accuracy']])"
   ]
  },
  {
   "cell_type": "markdown",
   "metadata": {},
   "source": []
  }
 ],
 "metadata": {
  "kernelspec": {
   "display_name": "Python 3",
   "language": "python",
   "name": "python3"
  },
  "language_info": {
   "codemirror_mode": {
    "name": "ipython",
    "version": 3
   },
   "file_extension": ".py",
   "mimetype": "text/x-python",
   "name": "python",
   "nbconvert_exporter": "python",
   "pygments_lexer": "ipython3",
   "version": "3.9.0rc1"
  }
 },
 "nbformat": 4,
 "nbformat_minor": 2
}
