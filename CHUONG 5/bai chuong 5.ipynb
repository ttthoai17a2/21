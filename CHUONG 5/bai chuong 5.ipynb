{
 "cells": [
  {
   "cell_type": "markdown",
   "metadata": {},
   "source": [
    "### 5.1"
   ]
  },
  {
   "cell_type": "code",
   "execution_count": 1,
   "metadata": {},
   "outputs": [
    {
     "name": "stdout",
     "output_type": "stream",
     "text": [
      "SQLite version: 3.32.3\n"
     ]
    }
   ],
   "source": [
    "import sqlite3\n",
    "\n",
    "connection = sqlite3.connect(\"example.db\")\n",
    "\n",
    "try:\n",
    "    cursor = connection.cursor()\n",
    "    cursor.execute(\"SELECT sqlite_version();\")\n",
    "    version = cursor.fetchone()\n",
    "\n",
    "    print(f\"SQLite version: {version[0]}\")\n",
    "\n",
    "finally:\n",
    "    \n",
    "    connection.close()"
   ]
  },
  {
   "cell_type": "markdown",
   "metadata": {},
   "source": [
    "### Bài 5.2"
   ]
  },
  {
   "cell_type": "code",
   "execution_count": 2,
   "metadata": {},
   "outputs": [
    {
     "name": "stdout",
     "output_type": "stream",
     "text": [
      "SQLite version: 3.32.3\n"
     ]
    }
   ],
   "source": [
    "import sqlite3\n",
    "connection = sqlite3.connect(\":memory:\")\n",
    "\n",
    "try:\n",
    "\n",
    "    cursor = connection.cursor()\n",
    "    cursor.execute(\"SELECT sqlite_version();\")\n",
    "    version = cursor.fetchone()\n",
    "\n",
    "    print(f\"SQLite version: {version[0]}\")\n",
    "\n",
    "finally:\n",
    "    connection.close()"
   ]
  },
  {
   "cell_type": "markdown",
   "metadata": {},
   "source": [
    "### Bài 5.3"
   ]
  },
  {
   "cell_type": "code",
   "execution_count": 3,
   "metadata": {},
   "outputs": [
    {
     "name": "stdout",
     "output_type": "stream",
     "text": [
      "Table 'users' created successfully.\n"
     ]
    }
   ],
   "source": [
    "import sqlite3\n",
    "connection = sqlite3.connect(\"example.db\")\n",
    "\n",
    "try:\n",
    "    cursor = connection.cursor()\n",
    "\n",
    "    cursor.execute(\"\"\"\n",
    "        CREATE TABLE IF NOT EXISTS users (\n",
    "            id INTEGER PRIMARY KEY AUTOINCREMENT,\n",
    "            name TEXT NOT NULL,\n",
    "            age INTEGER NOT NULL\n",
    "        );\n",
    "    \"\"\")\n",
    "\n",
    "    print(\"Table 'users' created successfully.\")\n",
    "\n",
    "finally:\n",
    "    connection.close()\n"
   ]
  },
  {
   "cell_type": "markdown",
   "metadata": {},
   "source": [
    "### Bài 5.4"
   ]
  },
  {
   "cell_type": "code",
   "execution_count": 4,
   "metadata": {},
   "outputs": [
    {
     "name": "stdout",
     "output_type": "stream",
     "text": [
      "Table 'users' created successfully.\n",
      "Tables in the database:\n",
      "- users\n",
      "- sqlite_sequence\n"
     ]
    }
   ],
   "source": [
    "import sqlite3\n",
    "\n",
    "connection = sqlite3.connect(\"example.db\")\n",
    "\n",
    "try:\n",
    "\n",
    "    cursor = connection.cursor()\n",
    "\n",
    "    cursor.execute(\"\"\"\n",
    "        CREATE TABLE IF NOT EXISTS users (\n",
    "            id INTEGER PRIMARY KEY AUTOINCREMENT,\n",
    "            name TEXT NOT NULL,\n",
    "            age INTEGER NOT NULL\n",
    "        );\n",
    "    \"\"\")\n",
    "\n",
    "    print(\"Table 'users' created successfully.\")\n",
    "\n",
    "    cursor.execute(\"SELECT name FROM sqlite_master WHERE type='table';\")\n",
    "    tables = cursor.fetchall()\n",
    "\n",
    "    print(\"Tables in the database:\")\n",
    "    for table in tables:\n",
    "        print(f\"- {table[0]}\")\n",
    "\n",
    "finally:\n",
    "    connection.close()\n"
   ]
  },
  {
   "cell_type": "markdown",
   "metadata": {},
   "source": [
    "### Bài 5.5"
   ]
  },
  {
   "cell_type": "code",
   "execution_count": 5,
   "metadata": {},
   "outputs": [
    {
     "name": "stdout",
     "output_type": "stream",
     "text": [
      "Table 'users' created successfully.\n",
      "Records inserted successfully.\n",
      "Records in 'users' table:\n",
      "(1, 'Alice', 30)\n",
      "(2, 'Bob', 25)\n",
      "(3, 'Charlie', 35)\n"
     ]
    }
   ],
   "source": [
    "import sqlite3\n",
    "connection = sqlite3.connect(\"example.db\")\n",
    "\n",
    "try:\n",
    "    cursor = connection.cursor()\n",
    "\n",
    "    cursor.execute(\"\"\"\n",
    "        CREATE TABLE IF NOT EXISTS users (\n",
    "            id INTEGER PRIMARY KEY AUTOINCREMENT,\n",
    "            name TEXT NOT NULL,\n",
    "            age INTEGER NOT NULL\n",
    "        );\n",
    "    \"\"\")\n",
    "\n",
    "    print(\"Table 'users' created successfully.\")\n",
    "\n",
    "    users_data = [\n",
    "        (\"Alice\", 30),\n",
    "        (\"Bob\", 25),\n",
    "        (\"Charlie\", 35)\n",
    "    ]\n",
    "    cursor.executemany(\"INSERT INTO users (name, age) VALUES (?, ?);\", users_data)\n",
    "    connection.commit()\n",
    "    print(\"Records inserted successfully.\")\n",
    "\n",
    "    cursor.execute(\"SELECT * FROM users;\")\n",
    "    rows = cursor.fetchall()\n",
    "\n",
    "    print(\"Records in 'users' table:\")\n",
    "    for row in rows:\n",
    "        print(row)\n",
    "\n",
    "finally:\n",
    "    connection.close()"
   ]
  },
  {
   "cell_type": "markdown",
   "metadata": {},
   "source": [
    "### Bài 5.6"
   ]
  },
  {
   "cell_type": "code",
   "execution_count": 6,
   "metadata": {},
   "outputs": [
    {
     "name": "stdout",
     "output_type": "stream",
     "text": [
      "Table 'users' created successfully.\n",
      "Records inserted successfully.\n",
      "Total records in 'users' table: 6\n"
     ]
    }
   ],
   "source": [
    "import sqlite3\n",
    "\n",
    "connection = sqlite3.connect(\"example.db\")\n",
    "\n",
    "try:\n",
    "    cursor = connection.cursor()\n",
    "\n",
    "    cursor.execute(\"\"\"\n",
    "        CREATE TABLE IF NOT EXISTS users (\n",
    "            id INTEGER PRIMARY KEY AUTOINCREMENT,\n",
    "            name TEXT NOT NULL,\n",
    "            age INTEGER NOT NULL\n",
    "        );\n",
    "    \"\"\")\n",
    "\n",
    "    print(\"Table 'users' created successfully.\")\n",
    "\n",
    "    users_data = [\n",
    "        (\"Alice\", 30),\n",
    "        (\"Bob\", 25),\n",
    "        (\"Charlie\", 35)\n",
    "    ]\n",
    "    cursor.executemany(\"INSERT INTO users (name, age) VALUES (?, ?);\", users_data)\n",
    "    connection.commit()\n",
    "    print(\"Records inserted successfully.\")\n",
    "\n",
    "    cursor.execute(\"SELECT COUNT(*) FROM users;\")\n",
    "    record_count = cursor.fetchone()[0]\n",
    "    print(f\"Total records in 'users' table: {record_count}\")\n",
    "\n",
    "finally:\n",
    "    connection.close()\n"
   ]
  },
  {
   "cell_type": "markdown",
   "metadata": {},
   "source": [
    "### Bài 5.7"
   ]
  },
  {
   "cell_type": "code",
   "execution_count": 7,
   "metadata": {},
   "outputs": [
    {
     "name": "stdout",
     "output_type": "stream",
     "text": [
      "Table 'users' created successfully.\n",
      "Records inserted successfully.\n",
      "Total records in 'users' table: 9\n",
      "All ages updated to 40 successfully.\n",
      "Updated records in 'users' table:\n",
      "(1, 'Alice', 40)\n",
      "(2, 'Bob', 40)\n",
      "(3, 'Charlie', 40)\n",
      "(4, 'Alice', 40)\n",
      "(5, 'Bob', 40)\n",
      "(6, 'Charlie', 40)\n",
      "(7, 'Alice', 40)\n",
      "(8, 'Bob', 40)\n",
      "(9, 'Charlie', 40)\n"
     ]
    }
   ],
   "source": [
    "import sqlite3\n",
    "\n",
    "connection = sqlite3.connect(\"example.db\")\n",
    "\n",
    "try:\n",
    "    cursor = connection.cursor()\n",
    "    cursor.execute(\"\"\"\n",
    "        CREATE TABLE IF NOT EXISTS users (\n",
    "            id INTEGER PRIMARY KEY AUTOINCREMENT,\n",
    "            name TEXT NOT NULL,\n",
    "            age INTEGER NOT NULL\n",
    "        );\n",
    "    \"\"\")\n",
    "\n",
    "    print(\"Table 'users' created successfully.\")\n",
    "\n",
    "    users_data = [\n",
    "        (\"Alice\", 30),\n",
    "        (\"Bob\", 25),\n",
    "        (\"Charlie\", 35)\n",
    "    ]\n",
    "    cursor.executemany(\"INSERT INTO users (name, age) VALUES (?, ?);\", users_data)\n",
    "    connection.commit()\n",
    "    print(\"Records inserted successfully.\")\n",
    "\n",
    "    cursor.execute(\"SELECT COUNT(*) FROM users;\")\n",
    "    record_count = cursor.fetchone()[0]\n",
    "    print(f\"Total records in 'users' table: {record_count}\")\n",
    "\n",
    "    new_age = 40\n",
    "    cursor.execute(\"UPDATE users SET age = ?;\", (new_age,))\n",
    "    connection.commit()\n",
    "    print(f\"All ages updated to {new_age} successfully.\")\n",
    "\n",
    "    cursor.execute(\"SELECT * FROM users;\")\n",
    "    updated_rows = cursor.fetchall()\n",
    "    print(\"Updated records in 'users' table:\")\n",
    "    for row in updated_rows:\n",
    "        print(row)\n",
    "\n",
    "finally:\n",
    "\n",
    "    connection.close()"
   ]
  },
  {
   "cell_type": "markdown",
   "metadata": {},
   "source": [
    "### Bài 5.8"
   ]
  },
  {
   "cell_type": "markdown",
   "metadata": {},
   "source": []
  },
  {
   "cell_type": "code",
   "execution_count": 8,
   "metadata": {},
   "outputs": [
    {
     "name": "stdout",
     "output_type": "stream",
     "text": [
      "Đã xóa người dùng có id = 2.\n",
      "Các bản ghi còn lại trong bảng 'users':\n",
      "(1, 'Alice', 40)\n",
      "(3, 'Charlie', 40)\n",
      "(4, 'Alice', 40)\n",
      "(5, 'Bob', 40)\n",
      "(6, 'Charlie', 40)\n",
      "(7, 'Alice', 40)\n",
      "(8, 'Bob', 40)\n",
      "(9, 'Charlie', 40)\n"
     ]
    }
   ],
   "source": [
    "import sqlite3\n",
    "\n",
    "connection = sqlite3.connect(\"example.db\")\n",
    "\n",
    "try:\n",
    "    cursor = connection.cursor()\n",
    "\n",
    "    \n",
    "    user_id_to_delete = 2\n",
    "\n",
    "    cursor.execute(\"DELETE FROM users WHERE id = ?;\", (user_id_to_delete,))\n",
    "\n",
    "\n",
    "    connection.commit()\n",
    "\n",
    "    if cursor.rowcount > 0:\n",
    "        print(f\"Đã xóa người dùng có id = {user_id_to_delete}.\")\n",
    "    else:\n",
    "        print(f\"Không tìm thấy người dùng có id = {user_id_to_delete}.\")\n",
    "\n",
    "    cursor.execute(\"SELECT * FROM users;\")\n",
    "    updated_rows = cursor.fetchall()\n",
    "\n",
    "    print(\"Các bản ghi còn lại trong bảng 'users':\")\n",
    "    for row in updated_rows:\n",
    "        print(row)\n",
    "\n",
    "finally:\n",
    "    connection.close()"
   ]
  },
  {
   "cell_type": "markdown",
   "metadata": {},
   "source": [
    "### Bài 5.9"
   ]
  },
  {
   "cell_type": "code",
   "execution_count": null,
   "metadata": {},
   "outputs": [],
   "source": [
    "import pandas as pd\n",
    "\n",
    "df = pd.read_csv('region.csv')\n",
    "\n",
    "print(df)\n"
   ]
  },
  {
   "cell_type": "markdown",
   "metadata": {},
   "source": [
    "### Bài 5.10"
   ]
  },
  {
   "cell_type": "code",
   "execution_count": null,
   "metadata": {},
   "outputs": [],
   "source": [
    "import sqlite3\n",
    "\n",
    "connection = sqlite3.connect('product.db')\n",
    "cursor = connection.cursor()\n",
    "\n",
    "cursor.execute(\"\"\"\n",
    "    CREATE TABLE IF NOT EXISTS product (\n",
    "        id INTEGER PRIMARY KEY AUTOINCREMENT,\n",
    "        name TEXT NOT NULL,\n",
    "        price REAL NOT NULL,\n",
    "        amount INTEGER NOT NULL\n",
    "    );\n",
    "\"\"\")\n",
    "connection.commit()\n",
    "\n",
    "def display_products():\n",
    "    cursor.execute(\"SELECT * FROM product;\")\n",
    "    products = cursor.fetchall()\n",
    "    print(\"Danh sách sản phẩm:\")\n",
    "    for product in products:\n",
    "        print(f\"ID: {product[0]}, Name: {product[1]}, Price: {product[2]}, Amount: {product[3]}\")\n",
    "\n",
    "def add_product(name, price, amount):\n",
    "    cursor.execute(\"INSERT INTO product (name, price, amount) VALUES (?, ?, ?);\", (name, price, amount))\n",
    "    connection.commit()\n",
    "    print(f\"Sản phẩm '{name}' đã được thêm vào!\")\n",
    "\n",
    "def search_product(name):\n",
    "    cursor.execute(\"SELECT * FROM product WHERE name LIKE ?;\", ('%' + name + '%',))\n",
    "    products = cursor.fetchall()\n",
    "    if products:\n",
    "        print(\"Kết quả tìm kiếm:\")\n",
    "        for product in products:\n",
    "            print(f\"ID: {product[0]}, Name: {product[1]}, Price: {product[2]}, Amount: {product[3]}\")\n",
    "    else:\n",
    "        print(\"Không tìm thấy sản phẩm với tên này.\")\n",
    "\n",
    "def update_product(id, price, amount):\n",
    "    cursor.execute(\"UPDATE product SET price = ?, amount = ? WHERE id = ?;\", (price, amount, id))\n",
    "    connection.commit()\n",
    "    print(f\"Sản phẩm có ID {id} đã được cập nhật.\")\n",
    "\n",
    "def delete_product(id):\n",
    "    cursor.execute(\"DELETE FROM product WHERE id = ?;\", (id,))\n",
    "    connection.commit()\n",
    "    print(f\"Sản phẩm có ID {id} đã bị xóa.\")\n",
    "\n",
    "def menu():\n",
    "    while True:\n",
    "        print(\"\\n--- Quản lý sản phẩm ---\")\n",
    "        print(\"1. Hiển thị danh sách sản phẩm\")\n",
    "        print(\"2. Thêm sản phẩm\")\n",
    "        print(\"3. Tìm kiếm sản phẩm theo tên\")\n",
    "        print(\"4. Cập nhật sản phẩm theo ID\")\n",
    "        print(\"5. Xóa sản phẩm theo ID\")\n",
    "        print(\"6. Thoát\")\n",
    "        choice = input(\"Chọn chức năng (1-6): \")\n",
    "\n",
    "        if choice == '1':\n",
    "            display_products()\n",
    "        elif choice == '2':\n",
    "            name = input(\"Nhập tên sản phẩm: \")\n",
    "            price = float(input(\"Nhập giá sản phẩm: \"))\n",
    "            amount = int(input(\"Nhập số lượng sản phẩm: \"))\n",
    "            add_product(name, price, amount)\n",
    "        elif choice == '3':\n",
    "            name = input(\"Nhập tên sản phẩm để tìm kiếm: \")\n",
    "            search_product(name)\n",
    "        elif choice == '4':\n",
    "            id = int(input(\"Nhập ID sản phẩm cần cập nhật: \"))\n",
    "            price = float(input(\"Nhập giá mới của sản phẩm: \"))\n",
    "            amount = int(input(\"Nhập số lượng mới của sản phẩm: \"))\n",
    "            update_product(id, price, amount)\n",
    "        elif choice == '5':\n",
    "            id = int(input(\"Nhập ID sản phẩm cần xóa: \"))\n",
    "            delete_product(id)\n",
    "        elif choice == '6':\n",
    "            print(\"Thoát chương trình.\")\n",
    "            break\n",
    "        else:\n",
    "            print(\"Lựa chọn không hợp lệ. Vui lòng chọn lại.\")\n",
    "\n",
    "menu()\n",
    "connection.close()\n"
   ]
  },
  {
   "cell_type": "markdown",
   "metadata": {},
   "source": [
    "### Bài 5.11"
   ]
  },
  {
   "cell_type": "code",
   "execution_count": null,
   "metadata": {},
   "outputs": [],
   "source": [
    "import sqlite3\n",
    "\n",
    "connection = sqlite3.connect('ql_nhan_vien.db')\n",
    "cursor = connection.cursor()\n",
    "\n",
    "cursor.execute(\"\"\"\n",
    "    CREATE TABLE IF NOT EXISTS PHONG (\n",
    "        id INTEGER PRIMARY KEY AUTOINCREMENT,\n",
    "        name TEXT NOT NULL,\n",
    "        price REAL NOT NULL,\n",
    "        amount INTEGER NOT NULL\n",
    "    );\n",
    "\"\"\")\n",
    "\n",
    "cursor.execute(\"\"\"\n",
    "    CREATE TABLE IF NOT EXISTS NHAN_VIEN (\n",
    "        id INTEGER PRIMARY KEY AUTOINCREMENT,\n",
    "        ho_ten TEXT NOT NULL,\n",
    "        tuoi INTEGER NOT NULL,\n",
    "        dia_chi TEXT NOT NULL,\n",
    "        luong REAL NOT NULL,\n",
    "        id_phong INTEGER,\n",
    "        FOREIGN KEY (id_phong) REFERENCES PHONG(id)\n",
    "    );\n",
    "\"\"\")\n",
    "\n",
    "connection.commit()\n",
    "\n",
    "print(\"Cơ sở dữ liệu và bảng đã được tạo thành công.\")\n",
    "\n",
    "def add_phong(name, price, amount):\n",
    "    cursor.execute(\"INSERT INTO PHONG (name, price, amount) VALUES (?, ?, ?);\", (name, price, amount))\n",
    "    connection.commit()\n",
    "    print(f\"Phòng ban '{name}' đã được thêm vào!\")\n",
    "\n",
    "def add_nhan_vien(ho_ten, tuoi, dia_chi, luong, id_phong):\n",
    "    cursor.execute(\"INSERT INTO NHAN_VIEN (ho_ten, tuoi, dia_chi, luong, id_phong) VALUES (?, ?, ?, ?, ?);\", \n",
    "                   (ho_ten, tuoi, dia_chi, luong, id_phong))\n",
    "    connection.commit()\n",
    "    print(f\"Nhân viên '{ho_ten}' đã được thêm vào phòng {id_phong}!\")\n",
    "\n",
    "\n",
    "def display_phong():\n",
    "    cursor.execute(\"SELECT * FROM PHONG;\")\n",
    "    rooms = cursor.fetchall()\n",
    "    print(\"Danh sách phòng ban:\")\n",
    "    for room in rooms:\n",
    "        print(f\"ID: {room[0]}, Name: {room[1]}, Price: {room[2]}, Amount: {room[3]}\")\n",
    "\n",
    "def display_nhan_vien():\n",
    "    cursor.execute(\"\"\"\n",
    "        SELECT NHAN_VIEN.id, NHAN_VIEN.ho_ten, NHAN_VIEN.tuoi, NHAN_VIEN.dia_chi, NHAN_VIEN.luong, PHONG.name\n",
    "        FROM NHAN_VIEN\n",
    "        JOIN PHONG ON NHAN_VIEN.id_phong = PHONG.id;\n",
    "    \"\"\")\n",
    "    employees = cursor.fetchall()\n",
    "    print(\"Danh sách nhân viên:\")\n",
    "    for emp in employees:\n",
    "        print(f\"ID: {emp[0]}, Name: {emp[1]}, Age: {emp[2]}, Address: {emp[3]}, Salary: {emp[4]}, Department: {emp[5]}\")\n",
    "\n",
    "def menu():\n",
    "    while True:\n",
    "        print(\"\\n--- Quản lý nhân viên ---\")\n",
    "        print(\"1. Hiển thị danh sách phòng ban\")\n",
    "        print(\"2. Thêm phòng ban\")\n",
    "        print(\"3. Thêm nhân viên\")\n",
    "        print(\"4. Hiển thị danh sách nhân viên\")\n",
    "        print(\"5. Thoát\")\n",
    "        choice = input(\"Chọn chức năng (1-5): \")\n",
    "\n",
    "        if choice == '1':\n",
    "            display_phong()\n",
    "        elif choice == '2':\n",
    "            name = input(\"Nhập tên phòng ban: \")\n",
    "            price = float(input(\"Nhập giá trị phòng ban: \"))\n",
    "            amount = int(input(\"Nhập số lượng nhân viên: \"))\n",
    "            add_phong(name, price, amount)\n",
    "        elif choice == '3':\n",
    "            ho_ten = input(\"Nhập họ tên nhân viên: \")\n",
    "            tuoi = int(input(\"Nhập tuổi nhân viên: \"))\n",
    "            dia_chi = input(\"Nhập địa chỉ nhân viên: \")\n",
    "            luong = float(input(\"Nhập lương nhân viên: \"))\n",
    "            id_phong = int(input(\"Nhập ID phòng ban nhân viên thuộc về: \"))\n",
    "            add_nhan_vien(ho_ten, tuoi, dia_chi, luong, id_phong)\n",
    "        elif choice == '4':\n",
    "            display_nhan_vien()\n",
    "        elif choice == '5':\n",
    "            print(\"Thoát chương trình.\")\n",
    "            break\n",
    "        else:\n",
    "            print(\"Lựa chọn không hợp lệ. Vui lòng chọn lại.\")\n",
    "\n",
    "menu()\n",
    "connection.close()\n"
   ]
  }
 ],
 "metadata": {
  "kernelspec": {
   "display_name": "Python 3",
   "language": "python",
   "name": "python3"
  },
  "language_info": {
   "codemirror_mode": {
    "name": "ipython",
    "version": 3
   },
   "file_extension": ".py",
   "mimetype": "text/x-python",
   "name": "python",
   "nbconvert_exporter": "python",
   "pygments_lexer": "ipython3",
   "version": "3.9.0rc1"
  }
 },
 "nbformat": 4,
 "nbformat_minor": 2
}
