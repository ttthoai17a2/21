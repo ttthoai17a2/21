{
 "cells": [
  {
   "cell_type": "markdown",
   "metadata": {},
   "source": [
    "### Bài 4.1"
   ]
  },
  {
   "cell_type": "code",
   "execution_count": 1,
   "metadata": {},
   "outputs": [
    {
     "name": "stdout",
     "output_type": "stream",
     "text": [
      "Numpy version: 2.0.2\n",
      "{\n",
      "  \"Compilers\": {\n",
      "    \"c\": {\n",
      "      \"name\": \"msvc\",\n",
      "      \"linker\": \"link\",\n",
      "      \"version\": \"19.29.30154\",\n",
      "      \"commands\": \"cl\"\n",
      "    },\n",
      "    \"cython\": {\n",
      "      \"name\": \"cython\",\n",
      "      \"linker\": \"cython\",\n",
      "      \"version\": \"3.0.11\",\n",
      "      \"commands\": \"cython\"\n",
      "    },\n",
      "    \"c++\": {\n",
      "      \"name\": \"msvc\",\n",
      "      \"linker\": \"link\",\n",
      "      \"version\": \"19.29.30154\",\n",
      "      \"commands\": \"cl\"\n",
      "    }\n",
      "  },\n",
      "  \"Machine Information\": {\n",
      "    \"host\": {\n",
      "      \"cpu\": \"x86_64\",\n",
      "      \"family\": \"x86_64\",\n",
      "      \"endian\": \"little\",\n",
      "      \"system\": \"windows\"\n",
      "    },\n",
      "    \"build\": {\n",
      "      \"cpu\": \"x86_64\",\n",
      "      \"family\": \"x86_64\",\n",
      "      \"endian\": \"little\",\n",
      "      \"system\": \"windows\"\n",
      "    }\n",
      "  },\n",
      "  \"Build Dependencies\": {\n",
      "    \"blas\": {\n",
      "      \"name\": \"scipy-openblas\",\n",
      "      \"found\": true,\n",
      "      \"version\": \"0.3.27\",\n",
      "      \"detection method\": \"pkgconfig\",\n",
      "      \"include directory\": \"C:/Users/runneradmin/AppData/Local/Temp/cibw-run-vclkdodh/cp39-win_amd64/build/venv/Lib/site-packages/scipy_openblas64/include\",\n",
      "      \"lib directory\": \"C:/Users/runneradmin/AppData/Local/Temp/cibw-run-vclkdodh/cp39-win_amd64/build/venv/Lib/site-packages/scipy_openblas64/lib\",\n",
      "      \"openblas configuration\": \"OpenBLAS 0.3.27  USE64BITINT DYNAMIC_ARCH NO_AFFINITY Zen MAX_THREADS=24\",\n",
      "      \"pc file directory\": \"D:/a/numpy/numpy/.openblas\"\n",
      "    },\n",
      "    \"lapack\": {\n",
      "      \"name\": \"scipy-openblas\",\n",
      "      \"found\": true,\n",
      "      \"version\": \"0.3.27\",\n",
      "      \"detection method\": \"pkgconfig\",\n",
      "      \"include directory\": \"C:/Users/runneradmin/AppData/Local/Temp/cibw-run-vclkdodh/cp39-win_amd64/build/venv/Lib/site-packages/scipy_openblas64/include\",\n",
      "      \"lib directory\": \"C:/Users/runneradmin/AppData/Local/Temp/cibw-run-vclkdodh/cp39-win_amd64/build/venv/Lib/site-packages/scipy_openblas64/lib\",\n",
      "      \"openblas configuration\": \"OpenBLAS 0.3.27  USE64BITINT DYNAMIC_ARCH NO_AFFINITY Zen MAX_THREADS=24\",\n",
      "      \"pc file directory\": \"D:/a/numpy/numpy/.openblas\"\n",
      "    }\n",
      "  },\n",
      "  \"Python Information\": {\n",
      "    \"path\": \"C:\\\\Users\\\\runneradmin\\\\AppData\\\\Local\\\\Temp\\\\build-env-le8kd45u\\\\Scripts\\\\python.exe\",\n",
      "    \"version\": \"3.9\"\n",
      "  },\n",
      "  \"SIMD Extensions\": {\n",
      "    \"baseline\": [\n",
      "      \"SSE\",\n",
      "      \"SSE2\",\n",
      "      \"SSE3\"\n",
      "    ],\n",
      "    \"found\": [\n",
      "      \"SSSE3\",\n",
      "      \"SSE41\",\n",
      "      \"POPCNT\",\n",
      "      \"SSE42\",\n",
      "      \"AVX\",\n",
      "      \"F16C\",\n",
      "      \"FMA3\",\n",
      "      \"AVX2\"\n",
      "    ],\n",
      "    \"not found\": [\n",
      "      \"AVX512F\",\n",
      "      \"AVX512CD\",\n",
      "      \"AVX512_SKX\",\n",
      "      \"AVX512_CLX\",\n",
      "      \"AVX512_CNL\",\n",
      "      \"AVX512_ICL\"\n",
      "    ]\n",
      "  }\n",
      "}\n"
     ]
    },
    {
     "name": "stderr",
     "output_type": "stream",
     "text": [
      "c:\\Users\\Admin\\AppData\\Local\\Programs\\Python\\Python39\\lib\\site-packages\\numpy\\__config__.py:155: UserWarning: Install `pyyaml` for better output\n",
      "  warnings.warn(\"Install `pyyaml` for better output\", stacklevel=1)\n"
     ]
    }
   ],
   "source": [
    "import numpy as np\n",
    "print(\"Numpy version:\", np.__version__)\n",
    "np.show_config()\n"
   ]
  },
  {
   "cell_type": "markdown",
   "metadata": {},
   "source": []
  },
  {
   "cell_type": "markdown",
   "metadata": {},
   "source": [
    "### Bài 4.2"
   ]
  },
  {
   "cell_type": "code",
   "execution_count": 2,
   "metadata": {},
   "outputs": [
    {
     "name": "stdout",
     "output_type": "stream",
     "text": [
      "DataFrame được chuyển đổi từ Series:\n",
      "   Index  Value\n",
      "0      a      0\n",
      "1      b      1\n",
      "2      c      2\n",
      "3      e      3\n",
      "4      d      4\n",
      "5      f      5\n",
      "6      g      6\n",
      "7      h      7\n",
      "8      i      8\n",
      "9      j      9\n",
      "10     k     10\n",
      "11     l     11\n",
      "12     m     12\n",
      "13     n     13\n",
      "14     o     14\n",
      "15     p     15\n",
      "16     q     16\n",
      "17     r     17\n",
      "18     s     18\n",
      "19     t     19\n",
      "20     u     20\n",
      "21     v     21\n",
      "22     w     22\n",
      "23     x     23\n",
      "24     y     24\n",
      "25     z     25\n"
     ]
    }
   ],
   "source": [
    "import pandas as pd\n",
    "import numpy as np\n",
    "\n",
    "mylist = list('abcedfghijklmnopqrstuvwxyz')\n",
    "myarr = np.arange(26)\n",
    "mydict = dict(zip(mylist, myarr))\n",
    "ser = pd.Series(mydict)\n",
    "\n",
    "df = ser.reset_index()\n",
    "df.columns = ['Index', 'Value']  \n",
    "print(\"DataFrame được chuyển đổi từ Series:\")\n",
    "print(df)\n"
   ]
  },
  {
   "cell_type": "markdown",
   "metadata": {},
   "source": [
    "### Bài 4.3"
   ]
  },
  {
   "cell_type": "code",
   "execution_count": 3,
   "metadata": {},
   "outputs": [
    {
     "name": "stdout",
     "output_type": "stream",
     "text": [
      "DataFrame kết nối từ hai Series:\n",
      "   Column1  Column2\n",
      "0        a        0\n",
      "1        b        1\n",
      "2        c        2\n",
      "3        e        3\n",
      "4        d        4\n",
      "5        f        5\n",
      "6        g        6\n",
      "7        h        7\n",
      "8        i        8\n",
      "9        j        9\n",
      "10       k       10\n",
      "11       l       11\n",
      "12       m       12\n",
      "13       n       13\n",
      "14       o       14\n",
      "15       p       15\n",
      "16       q       16\n",
      "17       r       17\n",
      "18       s       18\n",
      "19       t       19\n",
      "20       u       20\n",
      "21       v       21\n",
      "22       w       22\n",
      "23       x       23\n",
      "24       y       24\n",
      "25       z       25\n"
     ]
    }
   ],
   "source": [
    "import pandas as pd\n",
    "import numpy as np\n",
    "\n",
    "ser1 = pd.Series(list('abcedfghijklmnopqrstuvwxyz'))\n",
    "ser2 = pd.Series(np.arange(26))\n",
    "\n",
    "df = pd.concat([ser1, ser2], axis=1)\n",
    "df.columns = ['Column1', 'Column2']  \n",
    "\n",
    "print(\"DataFrame kết nối từ hai Series:\")\n",
    "print(df)"
   ]
  },
  {
   "cell_type": "markdown",
   "metadata": {},
   "source": [
    "### Bài 4.4"
   ]
  },
  {
   "cell_type": "code",
   "execution_count": 4,
   "metadata": {},
   "outputs": [
    {
     "name": "stdout",
     "output_type": "stream",
     "text": [
      "Kết quả sau khi xóa các mục có trong ser2:\n",
      "0    1\n",
      "1    2\n",
      "2    3\n",
      "dtype: int64\n"
     ]
    }
   ],
   "source": [
    "import pandas as pd\n",
    "\n",
    "ser1 = pd.Series([1, 2, 3, 4, 5])\n",
    "ser2 = pd.Series([4, 5, 6, 7, 8])\n",
    "\n",
    "ser1_filtered = ser1[~ser1.isin(ser2)]\n",
    "\n",
    "print(\"Kết quả sau khi xóa các mục có trong ser2:\")\n",
    "print(ser1_filtered)\n"
   ]
  },
  {
   "cell_type": "code",
   "execution_count": 5,
   "metadata": {},
   "outputs": [
    {
     "name": "stdout",
     "output_type": "stream",
     "text": [
      "\n",
      "Kết quả các mục không nằm chung trong cả hai:\n",
      "0    1\n",
      "1    2\n",
      "2    3\n",
      "3    6\n",
      "4    7\n",
      "5    8\n",
      "dtype: int64\n"
     ]
    }
   ],
   "source": [
    "# Lấy tất cả các mục của ser1 và ser2 nhưng không nằm chung trong cả hai\n",
    "khac_biet_doi_xung = pd.Series(list(set(ser1).symmetric_difference(set(ser2))))\n",
    "\n",
    "print(\"\\nKết quả các mục không nằm chung trong cả hai:\")\n",
    "print(khac_biet_doi_xung)\n"
   ]
  },
  {
   "cell_type": "markdown",
   "metadata": {},
   "source": [
    "### Bài 4.5"
   ]
  },
  {
   "cell_type": "code",
   "execution_count": 6,
   "metadata": {},
   "outputs": [
    {
     "name": "stdout",
     "output_type": "stream",
     "text": [
      "Giá trị tối thiểu (min): 1.015004701860395\n",
      "Phần centile thứ 25 (25th percentile): 6.99239684412554\n",
      "Trung vị (median): 10.715879022871437\n",
      "Phần centile thứ 75 (75th percentile): 13.184851841021402\n",
      "Giá trị tối đa (max): 16.904444259289953\n"
     ]
    }
   ],
   "source": [
    "import pandas as pd\n",
    "import numpy as np\n",
    "\n",
    "# Tạo Series ngẫu nhiên\n",
    "ser = pd.Series(np.random.normal(10, 5, 25))\n",
    "\n",
    "# 1. Giá trị tối thiểu\n",
    "min_value = ser.min()\n",
    "\n",
    "# 2. Phần centile thứ 25\n",
    "percentile_25 = ser.quantile(0.25)\n",
    "\n",
    "# 3. Trung vị\n",
    "median_value = ser.median()\n",
    "\n",
    "# 4. Phần centile thứ 75\n",
    "percentile_75 = ser.quantile(0.75)\n",
    "\n",
    "# 5. Giá trị tối đa\n",
    "max_value = ser.max()\n",
    "\n",
    "# In kết quả\n",
    "print(f\"Giá trị tối thiểu (min): {min_value}\")\n",
    "print(f\"Phần centile thứ 25 (25th percentile): {percentile_25}\")\n",
    "print(f\"Trung vị (median): {median_value}\")\n",
    "print(f\"Phần centile thứ 75 (75th percentile): {percentile_75}\")\n",
    "print(f\"Giá trị tối đa (max): {max_value}\")\n"
   ]
  },
  {
   "cell_type": "markdown",
   "metadata": {},
   "source": [
    "### Bài 4.6"
   ]
  },
  {
   "cell_type": "code",
   "execution_count": 7,
   "metadata": {},
   "outputs": [
    {
     "name": "stdout",
     "output_type": "stream",
     "text": [
      "Số lần xuất hiện của mỗi giá trị duy nhất:\n",
      "b    6\n",
      "e    6\n",
      "f    5\n",
      "c    4\n",
      "g    3\n",
      "d    3\n",
      "a    3\n",
      "Name: count, dtype: int64\n"
     ]
    }
   ],
   "source": [
    "'''\n",
    "+) list('abcdefgh'): Tạo danh sách các ký tự ['a', 'b', 'c', 'd', 'e', 'f', 'g', 'h'].\n",
    "+) np.random.randint(8, size=30): Tạo một mảng numpy gồm 30 số ngẫu nhiên trong khoảng từ 0 đến 7 (giá trị bắt đầu từ 0 và nhỏ hơn 8).\n",
    "+) np.take(list('abcdefgh'), ...): Lấy các phần tử từ danh sách ['a', 'b', 'c', 'd', 'e', 'f', 'g', 'h'] dựa trên các chỉ số ngẫu nhiên được tạo bởi np.random.randint.\n",
    "'''\n",
    "\n",
    "### 2. Tính số lần xuất hiện của mỗi giá trị duy nhất trong ser:\n",
    "import pandas as pd\n",
    "import numpy as np\n",
    "\n",
    "ser = pd.Series(np.take(list('abcdefgh'), np.random.randint(8, size=30)))\n",
    "value_counts = ser.value_counts()\n",
    "\n",
    "print(\"Số lần xuất hiện của mỗi giá trị duy nhất:\")\n",
    "print(value_counts)\n"
   ]
  },
  {
   "cell_type": "markdown",
   "metadata": {},
   "source": [
    "### Bài 4.7"
   ]
  },
  {
   "cell_type": "code",
   "execution_count": 8,
   "metadata": {},
   "outputs": [
    {
     "name": "stdout",
     "output_type": "stream",
     "text": [
      "Chuỗi ban đầu:\n",
      "0     1\n",
      "1     1\n",
      "2     4\n",
      "3     4\n",
      "4     4\n",
      "5     4\n",
      "6     1\n",
      "7     3\n",
      "8     3\n",
      "9     1\n",
      "10    3\n",
      "11    2\n",
      "dtype: int32\n",
      "\n",
      "Chuỗi sau khi thay thế:\n",
      "0         1\n",
      "1         1\n",
      "2         4\n",
      "3         4\n",
      "4         4\n",
      "5         4\n",
      "6         1\n",
      "7     Other\n",
      "8     Other\n",
      "9         1\n",
      "10    Other\n",
      "11    Other\n",
      "dtype: object\n"
     ]
    }
   ],
   "source": [
    "import pandas as pd\n",
    "import numpy as np\n",
    "\n",
    "np.random.seed(100)  \n",
    "ser = pd.Series(np.random.randint(1, 5, [12]))\n",
    "\n",
    "value_counts = ser.value_counts()\n",
    "\n",
    "top_2 = value_counts.index[:2]\n",
    "\n",
    "ser_replaced = ser.where(ser.isin(top_2), 'Other')\n",
    "\n",
    "print(\"Chuỗi ban đầu:\")\n",
    "print(ser)\n",
    "\n",
    "print(\"\\nChuỗi sau khi thay thế:\")\n",
    "print(ser_replaced)\n"
   ]
  },
  {
   "cell_type": "markdown",
   "metadata": {},
   "source": [
    "### Bài 4.8"
   ]
  },
  {
   "cell_type": "code",
   "execution_count": 9,
   "metadata": {},
   "outputs": [
    {
     "name": "stdout",
     "output_type": "stream",
     "text": [
      "Dữ liệu ban đầu:\n",
      "0     0.670749\n",
      "1     0.825853\n",
      "2     0.136707\n",
      "3     0.575093\n",
      "4     0.891322\n",
      "5     0.209202\n",
      "6     0.185328\n",
      "7     0.108377\n",
      "8     0.219697\n",
      "9     0.978624\n",
      "10    0.811683\n",
      "11    0.171941\n",
      "12    0.816225\n",
      "13    0.274074\n",
      "14    0.431704\n",
      "15    0.940030\n",
      "16    0.817649\n",
      "17    0.336112\n",
      "18    0.175410\n",
      "19    0.372832\n",
      "dtype: float64\n",
      "\n",
      "Dữ liệu sau khi thay thế bằng tên phân vị:\n",
      "0      Decile 7\n",
      "1      Decile 9\n",
      "2      Decile 1\n",
      "3      Decile 6\n",
      "4      Decile 9\n",
      "5      Decile 3\n",
      "6      Decile 3\n",
      "7      Decile 1\n",
      "8      Decile 4\n",
      "9     Decile 10\n",
      "10     Decile 7\n",
      "11     Decile 2\n",
      "12     Decile 8\n",
      "13     Decile 4\n",
      "14     Decile 6\n",
      "15    Decile 10\n",
      "16     Decile 8\n",
      "17     Decile 5\n",
      "18     Decile 2\n",
      "19     Decile 5\n",
      "dtype: category\n",
      "Categories (10, object): ['Decile 1' < 'Decile 2' < 'Decile 3' < 'Decile 4' ... 'Decile 7' < 'Decile 8' < 'Decile 9' < 'Decile 10']\n"
     ]
    }
   ],
   "source": [
    "import pandas as pd\n",
    "import numpy as np\n",
    "\n",
    "ser = pd.Series(np.random.random(20))\n",
    "\n",
    "ser_quantiles = pd.qcut(ser, q=10, labels=[f\"Decile {i+1}\" for i in range(10)])\n",
    "\n",
    "print(\"Dữ liệu ban đầu:\")\n",
    "print(ser)\n",
    "print(\"\\nDữ liệu sau khi thay thế bằng tên phân vị:\")\n",
    "print(ser_quantiles)"
   ]
  },
  {
   "cell_type": "markdown",
   "metadata": {},
   "source": [
    "### Bài 4.9"
   ]
  },
  {
   "cell_type": "code",
   "execution_count": 10,
   "metadata": {},
   "outputs": [
    {
     "name": "stdout",
     "output_type": "stream",
     "text": [
      "Chuỗi dữ liệu ban đầu:\n",
      "0     1\n",
      "1     3\n",
      "2     4\n",
      "3     3\n",
      "4     6\n",
      "5     9\n",
      "6     2\n",
      "7     1\n",
      "8     8\n",
      "9     7\n",
      "10    3\n",
      "11    1\n",
      "12    9\n",
      "13    3\n",
      "14    6\n",
      "15    2\n",
      "16    9\n",
      "17    2\n",
      "18    6\n",
      "19    5\n",
      "20    3\n",
      "21    9\n",
      "22    4\n",
      "23    6\n",
      "24    1\n",
      "25    4\n",
      "26    7\n",
      "27    4\n",
      "28    5\n",
      "29    8\n",
      "30    7\n",
      "31    4\n",
      "32    1\n",
      "33    5\n",
      "34    5\n",
      "dtype: int32\n",
      "\n",
      "DataFrame sau khi định hình lại:\n",
      "   Col1  Col2  Col3  Col4  Col5\n",
      "0     1     3     4     3     6\n",
      "1     9     2     1     8     7\n",
      "2     3     1     9     3     6\n",
      "3     2     9     2     6     5\n",
      "4     3     9     4     6     1\n",
      "5     4     7     4     5     8\n",
      "6     7     4     1     5     5\n"
     ]
    }
   ],
   "source": [
    "'''\n",
    "1.ser.values.reshape(7, 5):\n",
    "        Chuyển Series thành mảng NumPy (ser.values) và định hình lại thành mảng có 7 hàng, 5 cột.\n",
    "2. pd.DataFrame():\n",
    "        Chuyển mảng định hình lại thành DataFrame.\n",
    "3.columns=[f\"Col{i+1}\" for i in range(5)]:\n",
    "        Tạo tên cột tự động cho DataFrame, ví dụ: \"Col1\", \"Col2\", ...\n",
    "4.Kết quả:\n",
    "df là một DataFrame có kích thước 7x5, với dữ liệu từ chuỗi ban đầu.\n",
    "'''\n",
    "\n",
    "import pandas as pd\n",
    "import numpy as np\n",
    "\n",
    "ser = pd.Series(np.random.randint(1, 10, 35))\n",
    "\n",
    "df = pd.DataFrame(ser.values.reshape(7, 5), columns=[f\"Col{i+1}\" for i in range(5)])\n",
    "\n",
    "print(\"Chuỗi dữ liệu ban đầu:\")\n",
    "print(ser)\n",
    "print(\"\\nDataFrame sau khi định hình lại:\")\n",
    "print(df)\n"
   ]
  },
  {
   "cell_type": "markdown",
   "metadata": {},
   "source": [
    "### Bài 4.10"
   ]
  },
  {
   "cell_type": "code",
   "execution_count": 11,
   "metadata": {},
   "outputs": [
    {
     "name": "stdout",
     "output_type": "stream",
     "text": [
      "Chuỗi dữ liệu:\n",
      "0    6\n",
      "1    8\n",
      "2    7\n",
      "3    7\n",
      "4    3\n",
      "5    5\n",
      "6    3\n",
      "dtype: int32\n",
      "\n",
      "Vị trí của các số là bội của 3:\n",
      "Index([0, 4, 6], dtype='int64')\n"
     ]
    }
   ],
   "source": [
    "import pandas as pd\n",
    "import numpy as np\n",
    "\n",
    "ser = pd.Series(np.random.randint(1, 10, 7))\n",
    "indices = ser[ser % 3 == 0].index\n",
    "\n",
    "print(\"Chuỗi dữ liệu:\")\n",
    "print(ser)\n",
    "print(\"\\nVị trí của các số là bội của 3:\")\n",
    "print(indices)\n"
   ]
  },
  {
   "cell_type": "markdown",
   "metadata": {},
   "source": [
    "### Bài 4.11"
   ]
  },
  {
   "cell_type": "code",
   "execution_count": 12,
   "metadata": {},
   "outputs": [
    {
     "name": "stdout",
     "output_type": "stream",
     "text": [
      "Chuỗi dữ liệu ban đầu:\n",
      "0     a\n",
      "1     b\n",
      "2     c\n",
      "3     d\n",
      "4     e\n",
      "5     f\n",
      "6     g\n",
      "7     h\n",
      "8     i\n",
      "9     j\n",
      "10    k\n",
      "11    l\n",
      "12    m\n",
      "13    n\n",
      "14    o\n",
      "15    p\n",
      "16    q\n",
      "17    r\n",
      "18    s\n",
      "19    t\n",
      "20    u\n",
      "21    v\n",
      "22    w\n",
      "23    x\n",
      "24    y\n",
      "25    z\n",
      "dtype: object\n",
      "\n",
      "Các mục tại các vị trí trong danh sách pos:\n",
      "0     a\n",
      "4     e\n",
      "8     i\n",
      "14    o\n",
      "20    u\n",
      "dtype: object\n"
     ]
    }
   ],
   "source": [
    "import pandas as pd\n",
    "\n",
    "ser = pd.Series(list('abcdefghijklmnopqrstuvwxyz'))\n",
    "\n",
    "pos = [0, 4, 8, 14, 20]\n",
    "\n",
    "extracted_values = ser.iloc[pos]\n",
    "\n",
    "print(\"Chuỗi dữ liệu ban đầu:\")\n",
    "print(ser)\n",
    "print(\"\\nCác mục tại các vị trí trong danh sách pos:\")\n",
    "print(extracted_values)"
   ]
  },
  {
   "cell_type": "markdown",
   "metadata": {},
   "source": [
    "### Bài 4.12"
   ]
  },
  {
   "cell_type": "code",
   "execution_count": 13,
   "metadata": {},
   "outputs": [
    {
     "name": "stdout",
     "output_type": "stream",
     "text": [
      "Xếp chồng theo chiều dọc:\n",
      "0    0\n",
      "1    1\n",
      "2    2\n",
      "3    3\n",
      "4    4\n",
      "5    a\n",
      "6    b\n",
      "7    c\n",
      "8    d\n",
      "9    e\n",
      "dtype: object\n",
      "\n",
      "Xếp chồng theo chiều ngang:\n",
      "   0  1\n",
      "0  0  a\n",
      "1  1  b\n",
      "2  2  c\n",
      "3  3  d\n",
      "4  4  e\n"
     ]
    }
   ],
   "source": [
    "import pandas as pd\n",
    "ser1 = pd.Series(range(5))\n",
    "ser2 = pd.Series(list('abcde'))\n",
    "\n",
    "df_vertical = pd.concat([ser1, ser2], axis=0, ignore_index=True)\n",
    "df_horizontal = pd.concat([ser1, ser2], axis=1)\n",
    "\n",
    "print(\"Xếp chồng theo chiều dọc:\")\n",
    "print(df_vertical)\n",
    "\n",
    "print(\"\\nXếp chồng theo chiều ngang:\")\n",
    "print(df_horizontal)"
   ]
  },
  {
   "cell_type": "markdown",
   "metadata": {},
   "source": [
    "### Bài 4.13"
   ]
  },
  {
   "cell_type": "code",
   "execution_count": 14,
   "metadata": {},
   "outputs": [
    {
     "name": "stdout",
     "output_type": "stream",
     "text": [
      "Vị trí của các mục của ser2 trong ser1:\n",
      "[1, 3, 10, 13]\n"
     ]
    }
   ],
   "source": [
    "import pandas as pd\n",
    "\n",
    "ser1 = pd.Series([10, 9, 6, 5, 3, 1, 12, 8, 13])\n",
    "ser2 = pd.Series([1, 3, 10, 13])\n",
    "\n",
    "positions = [i for i in ser2 if i in ser1.values]\n",
    "\n",
    "print(\"Vị trí của các mục của ser2 trong ser1:\")\n",
    "print(positions)"
   ]
  },
  {
   "cell_type": "markdown",
   "metadata": {},
   "source": [
    "### Bài 4.14"
   ]
  },
  {
   "cell_type": "code",
   "execution_count": 15,
   "metadata": {},
   "outputs": [
    {
     "name": "stdout",
     "output_type": "stream",
     "text": [
      "Sai số bình phương trung bình (MSE): 0.30090213781983577\n"
     ]
    }
   ],
   "source": [
    "import pandas as pd\n",
    "import numpy as np\n",
    "\n",
    "truth = pd.Series(range(10))\n",
    "pred = pd.Series(range(10)) + np.random.random(10)\n",
    "\n",
    "mse = ((truth - pred) ** 2).mean()\n",
    "print(f\"Sai số bình phương trung bình (MSE): {mse}\")\n"
   ]
  },
  {
   "cell_type": "markdown",
   "metadata": {},
   "source": [
    "### Bài 4.15"
   ]
  },
  {
   "cell_type": "code",
   "execution_count": 16,
   "metadata": {},
   "outputs": [
    {
     "name": "stdout",
     "output_type": "stream",
     "text": [
      "Chuỗi sau khi chuyển ký tự đầu tiên thành chữ hoa:\n",
      "0     How\n",
      "1      To\n",
      "2    Kick\n",
      "3    Ass?\n",
      "dtype: object\n"
     ]
    }
   ],
   "source": [
    "import pandas as pd\n",
    "\n",
    "ser = pd.Series(['how', 'to', 'kick', 'ass?'])\n",
    "ser_capitalized = ser.str.capitalize()\n",
    "\n",
    "print(\"Chuỗi sau khi chuyển ký tự đầu tiên thành chữ hoa:\")\n",
    "print(ser_capitalized)\n"
   ]
  },
  {
   "cell_type": "markdown",
   "metadata": {},
   "source": [
    "### Bài 4.16"
   ]
  },
  {
   "cell_type": "code",
   "execution_count": 17,
   "metadata": {},
   "outputs": [
    {
     "name": "stdout",
     "output_type": "stream",
     "text": [
      "Hiệu số của các phần tử liên tiếp:\n",
      "0    NaN\n",
      "1    2.0\n",
      "2    3.0\n",
      "3    4.0\n",
      "4    5.0\n",
      "5    6.0\n",
      "6    6.0\n",
      "7    8.0\n",
      "dtype: float64\n",
      "\n",
      "Hiệu số của hiệu số giữa các số liên tiếp:\n",
      "0    NaN\n",
      "1    NaN\n",
      "2    1.0\n",
      "3    1.0\n",
      "4    1.0\n",
      "5    1.0\n",
      "6    0.0\n",
      "7    2.0\n",
      "dtype: float64\n"
     ]
    }
   ],
   "source": [
    "import pandas as pd\n",
    "\n",
    "ser = pd.Series([1, 3, 6, 10, 15, 21, 27, 35])\n",
    "diff1 = ser.diff()\n",
    "\n",
    "diff2 = diff1.diff()\n",
    "\n",
    "print(\"Hiệu số của các phần tử liên tiếp:\")\n",
    "print(diff1)\n",
    "print(\"\\nHiệu số của hiệu số giữa các số liên tiếp:\")\n",
    "print(diff2)\n"
   ]
  },
  {
   "cell_type": "markdown",
   "metadata": {},
   "source": [
    "### Bài 4.17"
   ]
  },
  {
   "cell_type": "code",
   "execution_count": null,
   "metadata": {},
   "outputs": [],
   "source": [
    "import pandas as pd\n",
    "\n",
    "ser = pd.Series(['01 Jan 2010', '02-02-2011', '20120303', '2013/04/04', '2014-05-05', '2015-06-06T12:20'])\n",
    "\n",
    "ser_timeseries = pd.to_datetime(ser)\n",
    "\n",
    "print(\"Series chuỗi thời gian:\")\n",
    "print(ser_timeseries)\n"
   ]
  },
  {
   "cell_type": "markdown",
   "metadata": {},
   "source": [
    "### Bài 4.18"
   ]
  },
  {
   "cell_type": "code",
   "execution_count": 19,
   "metadata": {},
   "outputs": [
    {
     "name": "stdout",
     "output_type": "stream",
     "text": [
      "1    rameses@egypt.com\n",
      "2            matt@t.co\n",
      "3    narendra@modi.com\n",
      "dtype: object\n"
     ]
    }
   ],
   "source": [
    "import pandas as pd\n",
    "\n",
    "emails = pd.Series(['buying books at amazom.com', 'rameses@egypt.com', 'matt@t.co', 'narendra@modi.com'])\n",
    "\n",
    "pattern = r'[A-Za-z0-9._%+-]+@[A-Za-z0-9.-]+\\.[A-Za-z]{2,4}'\n",
    "\n",
    "valid_emails = emails[emails.str.match(pattern)]\n",
    "print(valid_emails)"
   ]
  },
  {
   "cell_type": "markdown",
   "metadata": {},
   "source": [
    "### Bài 4.19"
   ]
  },
  {
   "cell_type": "code",
   "execution_count": 20,
   "metadata": {},
   "outputs": [
    {
     "name": "stdout",
     "output_type": "stream",
     "text": [
      "Khối lượng trung bình của từng loại quả:\n",
      "apple     3.500000\n",
      "banana    4.600000\n",
      "carrot    8.333333\n",
      "dtype: float64\n"
     ]
    }
   ],
   "source": [
    "import pandas as pd\n",
    "import numpy as np\n",
    "\n",
    "fruit = pd.Series(np.random.choice(['apple', 'banana', 'carrot'], 10))\n",
    "weights = pd.Series(np.linspace(1, 10, 10))\n",
    "\n",
    "average_weights = weights.groupby(fruit).mean()\n",
    "\n",
    "print(\"Khối lượng trung bình của từng loại quả:\")\n",
    "print(average_weights)\n"
   ]
  },
  {
   "cell_type": "markdown",
   "metadata": {},
   "source": [
    "### Bài 4.20"
   ]
  },
  {
   "cell_type": "markdown",
   "metadata": {},
   "source": []
  },
  {
   "cell_type": "code",
   "execution_count": null,
   "metadata": {},
   "outputs": [],
   "source": [
    "import pandas as pd\n",
    "euro12 = pd.read_csv('euro12.csv')\n",
    "\n",
    "print(euro12.info())\n",
    "print(\"Shape of euro12:\", euro12.shape)\n",
    "print(\"Columns in euro12:\", euro12.columns)\n",
    "\n",
    "# 1.In giá trị cột 'Goals'\n",
    "print(euro12['Goals'])\n",
    "\n",
    "# 2.Số đội tham gia Euro 2012\n",
    "print(\"Number of teams in Euro 2012:\", euro12['Team'].nunique())\n",
    "\n",
    "#3. In thông tin của DataFrame euro12\n",
    "print(euro12)\n",
    "\n",
    "#4. Tạo DataFrame discipline với các cột 'Team', 'Yellow Cards', 'Red Cards'\n",
    "discipline = euro12[['Team', 'Yellow Cards', 'Red Cards']]\n",
    "print(discipline)\n",
    "\n",
    "# 5.Sắp xếp discipline giảm dần theo 2 cột 'Red Cards', 'Yellow Cards'\n",
    "discipline_sorted = discipline.sort_values(by=['Red Cards', 'Yellow Cards'], ascending=False)\n",
    "print(discipline_sorted)\n",
    "\n",
    "# 6.Tính trung bình của 'Yellow Cards'\n",
    "print(\"Average Yellow Cards:\", euro12['Yellow Cards'].mean())\n",
    "\n",
    "# Lọc các đội có số bàn thắng (Goals) lớn hơn 6\n",
    "teams_above_6_goals = euro12[euro12['Goals'] > 6]\n",
    "print(teams_above_6_goals)\n",
    "\n",
    "#7.In các đội mà tên bắt đầu bằng 'G'\n",
    "teams_start_with_G = euro12[euro12['Team'].str.startswith('G')]\n",
    "print(teams_start_with_G)\n",
    "\n",
    "# 8.In 7 cột đầu của euro12\n",
    "print(euro12.iloc[:, :7])\n",
    "\n",
    "#9. In tất cả các cột, trừ 3 cột cuối\n",
    "print(euro12.iloc[:, :-3])\n",
    "\n",
    "#10.In các cột 'Team', 'Goals', 'Shooting Accuracy', 'Yellow Cards', 'Red Cards'\n",
    "print(euro12[['Team', 'Goals', 'Shooting Accuracy', 'Yellow Cards', 'Red Cards']])\n",
    "\n",
    "# 11.In các cột chỉ hiển thị 'Team', 'Shooting Accuracy' từ 'England', 'Italy', 'Russia'\n",
    "selected_teams = euro12[euro12['Team'].isin(['England', 'Italy', 'Russia'])][['Team', 'Shooting Accuracy']]\n",
    "print(selected_teams)"
   ]
  },
  {
   "cell_type": "markdown",
   "metadata": {},
   "source": [
    "### 4.21"
   ]
  },
  {
   "cell_type": "code",
   "execution_count": null,
   "metadata": {},
   "outputs": [],
   "source": [
    "# 1: Đọc dữ liệu từ tệp CSV\n",
    "import pandas as pd\n",
    "drinks = pd.read_csv('drinks.csv', index_col=0)\n",
    "\n",
    "print(\"Type of 'drinks':\", type(drinks))\n",
    "print(\"Shape of 'drinks':\", drinks.shape)\n",
    "print(\"Columns in 'drinks':\", drinks.columns)\n",
    "print(\"\\nFirst 5 rows of 'drinks':\")\n",
    "print(drinks.head())\n",
    "print(\"\\nLast 5 rows of 'drinks':\")\n",
    "print(drinks.tail())\n",
    "\n",
    "#2.Số lượng bia tiêu thụ trung bình ở mỗi châu lục\n",
    "average_beer_consumption = drinks.groupby('continent')['beer_servings'].mean()\n",
    "print(\"Average beer consumption by continent:\")\n",
    "print(average_beer_consumption)\n",
    "\n",
    "#3.Thống kê tổng quát về số lượng rượu vang tiêu thụ ở mỗi châu lục\n",
    "wine_consumption_stats = drinks.groupby('continent')['wine_servings'].describe()\n",
    "print(\"Wine consumption statistics by continent:\")\n",
    "print(wine_consumption_stats)\n",
    "\n",
    "#4.Số lượng bia và rượu tiêu thụ trung bình ở mỗi châu lục\n",
    "average_consumption = drinks.groupby('continent')[['beer_servings', 'wine_servings']].mean()\n",
    "print(\"Average beer and wine consumption by continent:\")\n",
    "print(average_consumption)\n",
    "\n",
    "#5.Giá trị trung vị (median) cho các loại bia và rượu tiêu thụ ở mỗi châu lục\n",
    "median_consumption = drinks.groupby('continent')[['beer_servings', 'wine_servings']].median()\n",
    "print(\"Median beer and wine consumption by continent:\")\n",
    "print(median_consumption)\n",
    "\n",
    "#6.Số lượng rượu mạnh (spirit_servings) tiêu thụ trung bình, lớn nhất và nhỏ nhất ở mỗi châu lục\n",
    "spirit_servings_stats = drinks.groupby('continent')['spirit_servings'].agg(['mean', 'max', 'min'])\n",
    "print(\"Spirit servings stats by continent:\")\n",
    "print(spirit_servings_stats)\n",
    "\n",
    "#7.Sắp xếp dữ liệu theo số lượng bia tiêu thụ và hiển thị các quốc gia tiêu thụ bia nhiều nhất và ít nhất\n",
    "\n",
    "       # Sắp xếp dữ liệu theo số lượng bia tiêu thụ\n",
    "sorted_by_beer = drinks.sort_values(by='beer_servings', ascending=False)\n",
    "\n",
    "       # Hiển thị 5 quốc gia có lượng tiêu thụ bia nhiều nhất\n",
    "print(\"Top 5 countries with highest beer consumption:\")\n",
    "print(sorted_by_beer.head())\n",
    "\n",
    "       # Hiển thị 5 quốc gia có lượng tiêu thụ bia ít nhất\n",
    "print(\"Top 5 countries with lowest beer consumption:\")\n",
    "print(sorted_by_beer.tail())\n"
   ]
  },
  {
   "cell_type": "markdown",
   "metadata": {},
   "source": [
    "### Bài 4.22"
   ]
  },
  {
   "cell_type": "code",
   "execution_count": null,
   "metadata": {},
   "outputs": [],
   "source": [
    "import pandas as pd\n",
    "\n",
    "# Đọc tệp stocks1.csv\n",
    "stocks1 = pd.read_csv('stocks1.csv')\n",
    "\n",
    "# Hiển thị 5 dòng đầu và cuối của stocks1\n",
    "print(\"First 5 rows of stocks1:\")\n",
    "print(stocks1.head())\n",
    "print(\"\\nLast 5 rows of stocks1:\")\n",
    "print(stocks1.tail())\n",
    "\n",
    "# Hiển thị kiểu dữ liệu (dtype) của các cột của stocks1\n",
    "print(\"\\nData types of columns in stocks1:\")\n",
    "print(stocks1.dtypes)\n",
    "\n",
    "# Hiển thị thông tin (info) của stocks1\n",
    "print(\"\\nInfo of stocks1:\")\n",
    "print(stocks1.info())\n",
    "##########################################################1\n",
    "# Đọc tệp stocks2.csv\n",
    "stocks2 = pd.read_csv('stocks2.csv')\n",
    "\n",
    "# Hiển thị 5 dòng đầu và cuối của stocks2\n",
    "print(\"First 5 rows of stocks2:\")\n",
    "print(stocks2.head())\n",
    "print(\"\\nLast 5 rows of stocks2:\")\n",
    "print(stocks2.tail())\n",
    "\n",
    "# Hiển thị kiểu dữ liệu (dtype) của các cột của stocks2\n",
    "print(\"\\nData types of columns in stocks2:\")\n",
    "print(stocks2.dtypes)\n",
    "\n",
    "# Hiển thị thông tin (info) của stocks2\n",
    "print(\"\\nInfo of stocks2:\")\n",
    "print(stocks2.info())\n",
    "########################################################2\n",
    "# Đọc tệp companies.csv\n",
    "companies = pd.read_csv('companies.csv')\n",
    "\n",
    "# Hiển thị dữ liệu của companies\n",
    "print(\"Data of companies:\")\n",
    "print(companies)\n",
    "\n",
    "# Hiển thị kiểu dữ liệu (dtype) của các cột của companies\n",
    "print(\"\\nData types of columns in companies:\")\n",
    "print(companies.dtypes)\n",
    "\n",
    "# Hiển thị thông tin (info) của companies\n",
    "print(\"\\nInfo of companies:\")\n",
    "print(companies.info())\n",
    "######################################################3\n",
    "# Kiểm tra nếu có dữ liệu Null trong stocks1\n",
    "print(\"\\nCheck for null values in stocks1:\")\n",
    "print(stocks1.isnull().sum())\n",
    "\n",
    "# Thay thế dữ liệu Null\n",
    "stocks1['high'] = stocks1['high'].fillna(stocks1.groupby('symbol')['high'].transform('max'))\n",
    "stocks1['low'] = stocks1['low'].fillna(stocks1.groupby('symbol')['low'].transform('min'))\n",
    "\n",
    "print(\"\\nCheck for null values after replacement in stocks1:\")\n",
    "print(stocks1.isnull().sum())\n",
    "\n",
    "######################################################\n",
    "\n",
    "# Gộp stocks1 và stocks2 theo dòng\n",
    "stocks = pd.concat([stocks1, stocks2], ignore_index=True)\n",
    "\n",
    "# Hiển thị 15 dòng dữ liệu cuối của stocks\n",
    "print(\"\\nLast 15 rows of the combined stocks dataframe:\")\n",
    "print(stocks.tail(15))\n",
    "\n",
    "\n",
    "##################################################\n",
    "# Gộp stocks và companies theo cột 'symbol' để tạo stocks_companies\n",
    "stocks_companies = pd.merge(stocks, companies, left_on='symbol', right_on='name', how='left')\n",
    "\n",
    "# Hiển thị 5 dòng dữ liệu đầu của stocks_companies\n",
    "print(\"\\nFirst 5 rows of the stocks_companies dataframe:\")\n",
    "print(stocks_companies.head())\n",
    "\n",
    "#############################################\n",
    "# Tính giá (open, high, low, close) trung bình và volume trung bình của mỗi công ty\n",
    "avg_price_and_volume = stocks_companies.groupby('symbol')[['open', 'high', 'low', 'close', 'volume']].mean()\n",
    "print(\"\\nAverage open, high, low, close, and volume for each company:\")\n",
    "print(avg_price_and_volume)\n",
    "\n",
    "#########################################333\n",
    "# Tính giá đóng cửa (close) trung bình, lớn nhất và nhỏ nhất của mỗi công ty\n",
    "close_stats = stocks_companies.groupby('symbol')['close'].agg(['mean', 'max', 'min'])\n",
    "print(\"\\nAverage, max, and min close price for each company:\")\n",
    "print(close_stats)\n",
    "\n",
    "#############################################33\n",
    "\n",
    "# Tạo cột parsed_time bằng cách chuyển đổi cột 'date' sang định dạng DateTime\n",
    "stocks_companies['parsed_time'] = pd.to_datetime(stocks_companies['date'])\n",
    "\n",
    "# Hiển thị kiểu dữ liệu của cột parsed_time\n",
    "print(\"\\nData type of 'parsed_time':\")\n",
    "print(stocks_companies['parsed_time'].dtype)\n",
    "\n",
    "# Hiển thị 5 dòng đầu của stocks_companies với cột parsed_time\n",
    "print(\"\\nFirst 5 rows of stocks_companies with parsed_time:\")\n",
    "print(stocks_companies.head())\n",
    "\n",
    "##################################3\n",
    "# Thêm cột result\n",
    "stocks_companies['result'] = ['up' if close > open else 'down' for close, open in zip(stocks_companies['close'], stocks_companies['open'])]\n",
    "\n",
    "# Hiển thị 5 dòng đầu của stocks_companies với cột result\n",
    "print(\"\\nFirst 5 rows of stocks_companies with 'result' column:\")\n",
    "print(stocks_companies.head())\n"
   ]
  },
  {
   "cell_type": "markdown",
   "metadata": {},
   "source": [
    "### Bài 4.23"
   ]
  },
  {
   "cell_type": "code",
   "execution_count": null,
   "metadata": {},
   "outputs": [],
   "source": [
    "import pandas as pd\n",
    "\n",
    "movies = pd.read_csv('movies.csv')\n",
    "ratings = pd.read_csv('ratings.csv')\n",
    "tags = pd.read_csv('tags.csv')\n",
    "\n",
    "print(\"Movies DataFrame:\")\n",
    "print(movies.head())\n",
    "\n",
    "print(\"\\nRatings DataFrame:\")\n",
    "print(ratings.head())\n",
    "\n",
    "print(\"\\nTags DataFrame:\")\n",
    "print(tags.head())\n",
    "\n",
    "# Kiểm tra dữ liệu thiếu trong từng DataFrame\n",
    "print(\"\\nMissing values in movies:\")\n",
    "print(movies.isnull().sum())\n",
    "\n",
    "print(\"\\nMissing values in ratings:\")\n",
    "print(ratings.isnull().sum())\n",
    "\n",
    "print(\"\\nMissing values in tags:\")\n",
    "print(tags.isnull().sum())\n",
    "\n",
    "# Xử lý dữ liệu thiếu (ví dụ: loại bỏ các dòng có giá trị thiếu)\n",
    "movies.dropna(inplace=True)\n",
    "ratings.dropna(inplace=True)\n",
    "tags.dropna(inplace=True)\n",
    "\n",
    "# Lọc các bộ phim không có tên (title) hoặc ID không hợp lệ trong movies\n",
    "movies = movies[movies['title'].notnull()]\n",
    "\n",
    "# Lọc các đánh giá không hợp lệ trong ratings (giữ lại chỉ những đánh giá hợp lệ)\n",
    "ratings = ratings[(ratings['rating'] >= 0) & (ratings['rating'] <= 5)]\n",
    "\n",
    "# Gộp movies và ratings theo cột 'movieId'\n",
    "movie_ratings = pd.merge(ratings, movies, on='movieId')\n",
    "\n",
    "# Hiển thị 5 dòng đầu của DataFrame đã gộp\n",
    "print(\"\\nMerged DataFrame (movie_ratings):\")\n",
    "print(movie_ratings.head())\n",
    "\n",
    "\n",
    "# Tính trung bình đánh giá cho mỗi bộ phim\n",
    "avg_ratings = movie_ratings.groupby('title')['rating'].mean()\n",
    "\n",
    "# Lọc các bộ phim có đánh giá trung bình lớn hơn 4\n",
    "high_rated_movies = avg_ratings[avg_ratings > 4]\n",
    "\n",
    "# Hiển thị các bộ phim có đánh giá cao\n",
    "print(\"\\nHigh rated movies (rating > 4):\")\n",
    "print(high_rated_movies)\n",
    "\n",
    "\n",
    "# Thống kê số lượng đánh giá theo bộ phim\n",
    "rating_counts = movie_ratings.groupby('title')['rating'].count()\n",
    "\n",
    "# Thống kê đánh giá trung bình của các bộ phim\n",
    "average_ratings = movie_ratings.groupby('title')['rating'].mean()\n",
    "\n",
    "print(\"\\nRating counts for each movie:\")\n",
    "print(rating_counts.head())\n",
    "\n",
    "print(\"\\nAverage ratings for each movie:\")\n",
    "print(average_ratings.head())\n",
    "\n",
    "\n",
    "# Chuyển cột timestamp sang định dạng thời gian\n",
    "ratings['timestamp'] = pd.to_datetime(ratings['timestamp'], unit='s')\n",
    "\n",
    "# Hiển thị 5 dòng đầu sau khi chuyển đổi\n",
    "print(\"\\nRatings DataFrame with parsed timestamps:\")\n",
    "print(ratings.head())\n",
    "\n",
    "\n",
    "### TRỰC QUAN HOÁ DỮ LIỆU\n",
    "\n",
    "import matplotlib.pyplot as plt\n",
    "import seaborn as sns\n",
    "\n",
    "# Vẽ histogram về phân bố đánh giá của các bộ phim\n",
    "plt.figure(figsize=(10, 6))\n",
    "sns.histplot(ratings['rating'], bins=20, kde=True)\n",
    "plt.title('Distribution of Ratings')\n",
    "plt.xlabel('Rating')\n",
    "plt.ylabel('Frequency')\n",
    "plt.show()\n",
    "\n",
    "# Vẽ biểu đồ về số lượng đánh giá của các bộ phim\n",
    "plt.figure(figsize=(10, 6))\n",
    "rating_counts.head(10).plot(kind='bar')\n",
    "plt.title('Top 10 Movies by Number of Ratings')\n",
    "plt.xlabel('Movie')\n",
    "plt.ylabel('Number of Ratings')\n",
    "plt.xticks(rotation=90)\n",
    "plt.show()\n",
    "\n",
    "\n"
   ]
  }
 ],
 "metadata": {
  "kernelspec": {
   "display_name": "Python 3",
   "language": "python",
   "name": "python3"
  },
  "language_info": {
   "codemirror_mode": {
    "name": "ipython",
    "version": 3
   },
   "file_extension": ".py",
   "mimetype": "text/x-python",
   "name": "python",
   "nbconvert_exporter": "python",
   "pygments_lexer": "ipython3",
   "version": "3.9.0rc1"
  }
 },
 "nbformat": 4,
 "nbformat_minor": 2
}
