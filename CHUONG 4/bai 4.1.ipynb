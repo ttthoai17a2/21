import numpy as np
print("Numpy version:", np.__version__)
np.show_config()
