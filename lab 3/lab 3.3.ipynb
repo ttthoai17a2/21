{
 "cells": [
  {
   "cell_type": "code",
   "execution_count": 1,
   "metadata": {},
   "outputs": [
    {
     "name": "stdout",
     "output_type": "stream",
     "text": [
      "             open       high       low    close\n",
      "date                                           \n",
      "01-03-19  684.770  692.52840  680.4460  688.952\n",
      "04-03-19  693.940  702.39200  685.1260  694.510\n",
      "05-03-19  695.664  584.92000  575.0500  695.558\n",
      "06-03-19  696.502  449.53395  443.7725  690.016\n",
      "07-03-19  689.460  691.47800  673.8600  677.494\n"
     ]
    }
   ],
   "source": [
    "import pandas as pd\n",
    "\n",
    "# 1. Đọc file stocks2.csv vào DataFrame stocks2\n",
    "stocks2 = pd.read_csv('stocks2.csv')\n",
    "\n",
    "# 2. Gộp stocks1 và stocks2 thành DataFrame mới tên là stocks\n",
    "# Giả sử stocks1 đã được đọc trước đó\n",
    "stocks1 = pd.read_csv('stocks1.csv')  # Nếu chưa đọc, bạn cần đọc file này trước\n",
    "stocks = pd.concat([stocks1, stocks2], ignore_index=True)\n",
    "\n",
    "# 3. Tính giá trung bình (open, high, low, close) cho mỗi ngày\n",
    "stocks_avg = stocks.groupby('date')[['open', 'high', 'low', 'close']].mean()\n",
    "\n",
    "# 4. Hiển thị 5 dòng đầu tiên của kết quả\n",
    "print(stocks_avg.head())"
   ]
  }
 ],
 "metadata": {
  "kernelspec": {
   "display_name": "Python 3",
   "language": "python",
   "name": "python3"
  },
  "language_info": {
   "codemirror_mode": {
    "name": "ipython",
    "version": 3
   },
   "file_extension": ".py",
   "mimetype": "text/x-python",
   "name": "python",
   "nbconvert_exporter": "python",
   "pygments_lexer": "ipython3",
   "version": "3.9.0rc1"
  }
 },
 "nbformat": 4,
 "nbformat_minor": 2
}
